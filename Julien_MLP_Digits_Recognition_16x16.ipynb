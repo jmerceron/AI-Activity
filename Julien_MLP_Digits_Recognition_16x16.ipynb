{
  "nbformat": 4,
  "nbformat_minor": 0,
  "metadata": {
    "colab": {
      "provenance": [],
      "toc_visible": true,
      "authorship_tag": "ABX9TyOayi/eO4dQFbOq3saSrhn5",
      "include_colab_link": true
    },
    "kernelspec": {
      "name": "python3",
      "display_name": "Python 3"
    },
    "language_info": {
      "name": "python"
    }
  },
  "cells": [
    {
      "cell_type": "markdown",
      "metadata": {
        "id": "view-in-github",
        "colab_type": "text"
      },
      "source": [
        "<a href=\"https://colab.research.google.com/github/jmerceron/AI-Activity/blob/main/Julien_MLP_Digits_Recognition_16x16.ipynb\" target=\"_parent\"><img src=\"https://colab.research.google.com/assets/colab-badge.svg\" alt=\"Open In Colab\"/></a>"
      ]
    },
    {
      "cell_type": "code",
      "execution_count": 1,
      "metadata": {
        "id": "nosdqwpjT36j"
      },
      "outputs": [],
      "source": [
        "import numpy as np\n",
        "import matplotlib.pyplot as plt\n",
        "import tensorflow as tf\n",
        "\n",
        "from tensorflow.keras.utils import plot_model"
      ]
    },
    {
      "cell_type": "code",
      "source": [
        "mnist = tf.keras.datasets.mnist"
      ],
      "metadata": {
        "id": "4VGDqK8aUjtZ"
      },
      "execution_count": 2,
      "outputs": []
    },
    {
      "cell_type": "code",
      "source": [
        "(x_train, y_train),(x_test, y_test) = mnist.load_data()"
      ],
      "metadata": {
        "id": "9oFlBIxdUoNW"
      },
      "execution_count": 3,
      "outputs": []
    },
    {
      "cell_type": "code",
      "source": [
        "print(x_train.shape, y_train.shape, x_test.shape, y_test.shape)"
      ],
      "metadata": {
        "colab": {
          "base_uri": "https://localhost:8080/"
        },
        "id": "7SFDBqvxUyC4",
        "outputId": "f7c0996c-dfe6-48c5-dcec-446163bb09eb"
      },
      "execution_count": 4,
      "outputs": [
        {
          "output_type": "stream",
          "name": "stdout",
          "text": [
            "(60000, 28, 28) (60000,) (10000, 28, 28) (10000,)\n"
          ]
        }
      ]
    },
    {
      "cell_type": "code",
      "source": [
        "plt.figure(figsize=(8,8))\n",
        "for i in range(9):\n",
        "  plt.subplot(3,3,i+1)\n",
        "  plt.imshow(x_train[i])\n",
        "  plt.title(y_train[i])\n",
        "  plt.axis('off')"
      ],
      "metadata": {
        "colab": {
          "base_uri": "https://localhost:8080/",
          "height": 675
        },
        "id": "lAUW-8WJU3Ez",
        "outputId": "bed92acc-4243-47ae-ed82-2fba163d02d5"
      },
      "execution_count": 5,
      "outputs": [
        {
          "output_type": "display_data",
          "data": {
            "text/plain": [
              "<Figure size 800x800 with 9 Axes>"
            ],
            "image/png": "[encoded data removed]"
          },
          "metadata": {}
        }
      ]
    },
    {
      "cell_type": "code",
      "source": [
        "x_train = tf.keras.utils.normalize(x_train, axis =0)\n",
        "x_test = tf.keras.utils.normalize(x_test, axis =0)"
      ],
      "metadata": {
        "id": "1NUu5MneVH4R"
      },
      "execution_count": 6,
      "outputs": []
    },
    {
      "cell_type": "code",
      "source": [
        "model = tf.keras.models.Sequential()\n",
        "model.add(tf.keras.layers.Flatten(input_shape = (28,28)))\n",
        "model.add(tf.keras.layers.Dense(16, activation = 'relu'))\n",
        "model.add(tf.keras.layers.Dense(16, activation = 'relu'))\n",
        "model.add(tf.keras.layers.Dense(10, activation='softmax'))"
      ],
      "metadata": {
        "id": "rig6HmUpVLir"
      },
      "execution_count": 7,
      "outputs": []
    },
    {
      "cell_type": "code",
      "source": [
        "model.summary()"
      ],
      "metadata": {
        "colab": {
          "base_uri": "https://localhost:8080/"
        },
        "id": "otx_9TwAVS10",
        "outputId": "0cbbf85b-5b5d-46ef-e585-04cb29abb315"
      },
      "execution_count": 8,
      "outputs": [
        {
          "output_type": "stream",
          "name": "stdout",
          "text": [
            "Model: \"sequential\"\n",
            "_________________________________________________________________\n",
            " Layer (type)                Output Shape              Param #   \n",
            "=================================================================\n",
            " flatten (Flatten)           (None, 784)               0         \n",
            "                                                                 \n",
            " dense (Dense)               (None, 16)                12560     \n",
            "                                                                 \n",
            " dense_1 (Dense)             (None, 16)                272       \n",
            "                                                                 \n",
            " dense_2 (Dense)             (None, 10)                170       \n",
            "                                                                 \n",
            "=================================================================\n",
            "Total params: 13002 (50.79 KB)\n",
            "Trainable params: 13002 (50.79 KB)\n",
            "Non-trainable params: 0 (0.00 Byte)\n",
            "_________________________________________________________________\n"
          ]
        }
      ]
    },
    {
      "cell_type": "code",
      "source": [
        "plot_model(model, to_file='model_plot.png', show_shapes=True, show_layer_names=True)"
      ],
      "metadata": {
        "colab": {
          "base_uri": "https://localhost:8080/",
          "height": 533
        },
        "id": "Ic8MUGncBeie",
        "outputId": "a16f6e70-353d-409d-87e9-7efc8a70a509"
      },
      "execution_count": 9,
      "outputs": [
        {
          "output_type": "execute_result",
          "data": {
            "image/png": "[encoded data removed]",
            "text/plain": [
              "<IPython.core.display.Image object>"
            ]
          },
          "metadata": {},
          "execution_count": 9
        }
      ]
    },
    {
      "cell_type": "code",
      "source": [
        "model.compile(optimizer = 'adam', loss = tf.keras.losses.SparseCategoricalCrossentropy(from_logits=True), metrics =['accuracy'])"
      ],
      "metadata": {
        "id": "0OiRxucHVhlZ"
      },
      "execution_count": 10,
      "outputs": []
    },
    {
      "cell_type": "code",
      "source": [
        "model.fit(x_train, y_train, validation_data=(x_test, y_test), batch_size=32, epochs = 15)"
      ],
      "metadata": {
        "colab": {
          "base_uri": "https://localhost:8080/"
        },
        "id": "v43D5-brWGMI",
        "outputId": "77b15d40-f9db-4204-fcab-d4beed2a4c8b"
      },
      "execution_count": 11,
      "outputs": [
        {
          "output_type": "stream",
          "name": "stdout",
          "text": [
            "Epoch 1/15\n"
          ]
        },
        {
          "output_type": "stream",
          "name": "stderr",
          "text": [
            "/usr/local/lib/python3.10/dist-packages/keras/src/backend.py:5727: UserWarning: \"`sparse_categorical_crossentropy` received `from_logits=True`, but the `output` argument was produced by a Softmax activation and thus does not represent logits. Was this intended?\n",
            "  output, from_logits = _get_logits(\n"
          ]
        },
        {
          "output_type": "stream",
          "name": "stdout",
          "text": [
            "1875/1875 [==============================] - 12s 5ms/step - loss: 1.1502 - accuracy: 0.6493 - val_loss: 0.7998 - val_accuracy: 0.7801\n",
            "Epoch 2/15\n",
            "1875/1875 [==============================] - 6s 3ms/step - loss: 0.5648 - accuracy: 0.8321 - val_loss: 0.6910 - val_accuracy: 0.8319\n",
            "Epoch 3/15\n",
            "1875/1875 [==============================] - 6s 3ms/step - loss: 0.4564 - accuracy: 0.8657 - val_loss: 0.6621 - val_accuracy: 0.8461\n",
            "Epoch 4/15\n",
            "1875/1875 [==============================] - 5s 3ms/step - loss: 0.3858 - accuracy: 0.8883 - val_loss: 0.5801 - val_accuracy: 0.8693\n",
            "Epoch 5/15\n",
            "1875/1875 [==============================] - 7s 4ms/step - loss: 0.3356 - accuracy: 0.9036 - val_loss: 0.5256 - val_accuracy: 0.8821\n",
            "Epoch 6/15\n",
            "1875/1875 [==============================] - 5s 3ms/step - loss: 0.3036 - accuracy: 0.9121 - val_loss: 0.5008 - val_accuracy: 0.8931\n",
            "Epoch 7/15\n",
            "1875/1875 [==============================] - 6s 3ms/step - loss: 0.2841 - accuracy: 0.9178 - val_loss: 0.4738 - val_accuracy: 0.9008\n",
            "Epoch 8/15\n",
            "1875/1875 [==============================] - 5s 3ms/step - loss: 0.2707 - accuracy: 0.9215 - val_loss: 0.4635 - val_accuracy: 0.9046\n",
            "Epoch 9/15\n",
            "1875/1875 [==============================] - 6s 3ms/step - loss: 0.2594 - accuracy: 0.9248 - val_loss: 0.4520 - val_accuracy: 0.9077\n",
            "Epoch 10/15\n",
            "1875/1875 [==============================] - 5s 3ms/step - loss: 0.2498 - accuracy: 0.9274 - val_loss: 0.4533 - val_accuracy: 0.9096\n",
            "Epoch 11/15\n",
            "1875/1875 [==============================] - 5s 2ms/step - loss: 0.2414 - accuracy: 0.9299 - val_loss: 0.4336 - val_accuracy: 0.9144\n",
            "Epoch 12/15\n",
            "1875/1875 [==============================] - 6s 3ms/step - loss: 0.2337 - accuracy: 0.9319 - val_loss: 0.4516 - val_accuracy: 0.9098\n",
            "Epoch 13/15\n",
            "1875/1875 [==============================] - 5s 3ms/step - loss: 0.2268 - accuracy: 0.9340 - val_loss: 0.4334 - val_accuracy: 0.9138\n",
            "Epoch 14/15\n",
            "1875/1875 [==============================] - 6s 3ms/step - loss: 0.2203 - accuracy: 0.9354 - val_loss: 0.4355 - val_accuracy: 0.9140\n",
            "Epoch 15/15\n",
            "1875/1875 [==============================] - 5s 3ms/step - loss: 0.2146 - accuracy: 0.9373 - val_loss: 0.4199 - val_accuracy: 0.9170\n"
          ]
        },
        {
          "output_type": "execute_result",
          "data": {
            "text/plain": [
              "<keras.src.callbacks.History at 0x7c30892f31c0>"
            ]
          },
          "metadata": {},
          "execution_count": 11
        }
      ]
    },
    {
      "cell_type": "code",
      "source": [
        "{layer.name: layer.get_weights() for layer in model.layers}"
      ],
      "metadata": {
        "colab": {
          "base_uri": "https://localhost:8080/"
        },
        "id": "kaCUxi-0a2ED",
        "outputId": "8a76b4bb-e8a5-45ea-b06c-5f64345212bc"
      },
      "execution_count": 12,
      "outputs": [
        {
          "output_type": "execute_result",
          "data": {
            "text/plain": [
              "{'flatten': [],\n",
              " 'dense': [array([[ 0.0162668 ,  0.03058963, -0.06468784, ..., -0.06870538,\n",
              "           0.0218804 , -0.03457342],\n",
              "         [ 0.07421759,  0.05263254, -0.0410534 , ..., -0.07976393,\n",
              "          -0.05124709, -0.04284097],\n",
              "         [-0.00113015, -0.05744188,  0.06733198, ..., -0.02182895,\n",
              "          -0.0598293 ,  0.08648893],\n",
              "         ...,\n",
              "         [-0.04876927, -0.03389257, -0.0162816 , ..., -0.05383884,\n",
              "           0.01972526, -0.04820038],\n",
              "         [ 0.04465882, -0.06910752,  0.00117283, ..., -0.02244427,\n",
              "          -0.02184474, -0.02969358],\n",
              "         [ 0.06998035, -0.0458209 ,  0.07212129, ...,  0.08213325,\n",
              "           0.00218849,  0.08243681]], dtype=float32),\n",
              "  array([ 0.13165985, -0.02077217,  0.01260255,  0.0901023 ,  0.08212657,\n",
              "          0.12155719,  0.15224493,  0.30198476,  0.12615491,  0.1559263 ,\n",
              "          0.06879529,  0.28085482,  0.23258929,  0.00076461,  0.14184351,\n",
              "          0.20937161], dtype=float32)],\n",
              " 'dense_1': [array([[-1.53833792e-01, -3.05710882e-01,  4.63975184e-02,\n",
              "           5.15530765e-01,  2.57341385e+00, -2.40281761e-01,\n",
              "          -3.82869750e-01,  1.34075177e+00,  1.97743565e-01,\n",
              "          -1.00575280e+00, -2.61245817e-01,  8.69833212e-03,\n",
              "          -1.72243667e+00,  1.68043065e+00,  2.34164023e+00,\n",
              "          -6.05813324e-01],\n",
              "         [ 5.38257599e-01,  3.52432340e-01, -1.65234715e-01,\n",
              "          -1.36465421e-02,  4.66598332e-01, -3.23704332e-01,\n",
              "           1.52002871e-02, -9.23536539e-01,  9.35703397e-01,\n",
              "          -4.09112312e-02,  2.24000072e+00,  3.80351092e-04,\n",
              "          -2.15889859e+00,  1.27422559e+00,  5.13382733e-01,\n",
              "           2.14761257e+00],\n",
              "         [-9.12129462e-01,  1.66806662e+00,  2.47688031e+00,\n",
              "           1.61982492e-01,  1.17214531e-01,  5.77261031e-01,\n",
              "          -1.15135834e-01,  2.20459652e+00, -6.65597320e-02,\n",
              "           7.96711385e-01,  6.89166486e-01, -2.63979703e-01,\n",
              "          -6.85214400e-02, -3.57138944e+00, -1.38665986e+00,\n",
              "           5.47771342e-02],\n",
              "         [ 2.66133046e+00, -1.96965265e+00, -1.00159216e+00,\n",
              "           6.65109754e-01, -2.38281107e+00,  9.48685706e-01,\n",
              "          -2.11641446e-01,  2.91062212e+00, -6.20381057e-01,\n",
              "          -1.27317631e+00,  6.97472468e-02, -4.16129202e-01,\n",
              "          -1.68133771e+00, -2.61364222e-01, -1.43924749e+00,\n",
              "           1.32986069e+00],\n",
              "         [ 8.44647706e-01,  5.75388670e-01, -1.03275888e-01,\n",
              "           2.07622480e+00,  1.76208720e-01,  1.89410329e-01,\n",
              "          -3.38017821e-01, -1.21310472e+00,  7.74354815e-01,\n",
              "          -1.96409583e-01,  4.39463496e-01,  1.68783948e-01,\n",
              "           3.47094536e-01,  1.35738063e+00, -2.62498736e-01,\n",
              "          -3.31885010e-01],\n",
              "         [ 8.07040557e-02,  1.65187085e+00,  2.88159937e-01,\n",
              "          -4.32819247e-01,  1.75355351e+00,  2.58048534e-01,\n",
              "          -1.99276090e-01, -1.39733100e+00, -5.43408804e-02,\n",
              "           5.83898067e-01,  1.36208904e+00, -2.61840224e-01,\n",
              "          -1.00463653e+00,  7.57177651e-01,  1.39689636e+00,\n",
              "           1.50403965e+00],\n",
              "         [-1.04616797e+00,  1.60386741e+00,  1.33100593e+00,\n",
              "          -5.60642183e-01,  1.17849660e+00, -3.03266257e-01,\n",
              "          -3.31910521e-01,  1.80221105e+00, -2.30285540e-01,\n",
              "           5.93464136e-01, -1.16171515e+00, -2.10827380e-01,\n",
              "           6.68737829e-01,  6.88812733e-01,  1.13896632e+00,\n",
              "           8.37481990e-02],\n",
              "         [ 9.26873624e-01,  4.92539167e-01, -1.84020460e-01,\n",
              "           4.27350610e-01, -1.31089950e+00, -6.72470033e-01,\n",
              "          -4.30562347e-01,  1.55201733e+00, -1.72320902e-01,\n",
              "          -4.47911114e-01, -5.07998407e-01, -4.38295811e-01,\n",
              "           1.20739651e+00,  1.18180907e+00, -7.90228784e-01,\n",
              "           7.02584743e-01],\n",
              "         [ 1.97154117e+00, -7.16039017e-02, -2.33173656e+00,\n",
              "          -1.11211574e+00, -7.22611129e-01, -1.46238714e-01,\n",
              "          -2.71332324e-01, -1.59982398e-01,  6.76961660e-01,\n",
              "          -1.24300778e+00, -7.14372993e-01, -1.80197328e-01,\n",
              "          -2.36599350e+00,  3.63915396e+00,  1.06300938e+00,\n",
              "           2.77211809e+00],\n",
              "         [-9.80817318e-01, -2.19561744e+00, -1.45543158e+00,\n",
              "           1.26323783e+00,  1.11061394e+00,  1.48181379e+00,\n",
              "          -2.74622381e-01,  1.75048256e+00,  5.85556209e-01,\n",
              "           6.15329504e-01, -1.32326674e+00,  1.93205565e-01,\n",
              "          -2.92985022e-01, -7.76529849e-01,  2.03205752e+00,\n",
              "          -9.04713869e-01],\n",
              "         [ 1.36532915e+00, -2.13609242e+00, -1.08337596e-01,\n",
              "          -1.22967839e+00, -3.38197947e-02, -1.09776354e+00,\n",
              "          -4.12314624e-01,  9.35738087e-01,  1.68010294e-02,\n",
              "           1.21657383e+00,  1.59149960e-01, -4.47610915e-01,\n",
              "           2.26099443e+00,  5.12580097e-01,  1.52933896e+00,\n",
              "           2.85790622e-01],\n",
              "         [-1.38410604e+00,  5.04805982e-01,  7.51837671e-01,\n",
              "          -6.37798190e-01,  7.06942260e-01,  1.30880344e+00,\n",
              "          -4.01425600e-01,  1.60718262e+00, -3.36250097e-01,\n",
              "           8.74682814e-02,  1.07406783e+00,  9.28811952e-02,\n",
              "          -1.69425404e+00, -1.24726868e+00,  4.54915464e-01,\n",
              "           1.82316065e+00],\n",
              "         [ 1.51102912e+00,  2.48345807e-01,  1.43403614e+00,\n",
              "           1.02233112e+00,  9.52326179e-01, -5.83060205e-01,\n",
              "           1.37162179e-01,  7.63223231e-01, -6.21990681e-01,\n",
              "          -1.38950288e+00,  1.82575643e+00, -1.43783122e-01,\n",
              "          -1.16546042e-01, -6.43643066e-02, -3.37235063e-01,\n",
              "           6.13925099e-01],\n",
              "         [ 5.81685230e-02,  1.81324184e+00,  1.09470248e+00,\n",
              "           9.36449409e-01, -5.85080981e-01, -6.53633237e-01,\n",
              "          -8.18653703e-02,  1.99720180e+00, -1.43023384e+00,\n",
              "          -5.18807113e-01, -1.57953274e+00, -3.75530958e-01,\n",
              "           1.43147135e+00,  1.42804921e+00, -9.09940973e-02,\n",
              "          -1.30187917e+00],\n",
              "         [ 9.51388657e-01, -7.93397963e-01, -6.24376178e-01,\n",
              "          -1.20147145e+00, -5.66938221e-01, -1.17677069e+00,\n",
              "           1.55265272e-01,  1.42640936e+00,  5.80496565e-02,\n",
              "           6.34553969e-01, -8.24194610e-01, -1.04519375e-01,\n",
              "           1.98342276e+00,  1.24002326e+00,  7.18997300e-01,\n",
              "           8.75555947e-02],\n",
              "         [ 6.38117433e-01,  2.72051245e-01,  6.22538030e-01,\n",
              "           1.39338315e+00,  1.07025969e+00, -1.51612088e-01,\n",
              "          -2.19072700e-02, -9.72909391e-01,  1.32454649e-01,\n",
              "           9.09850121e-01,  1.39164686e+00, -3.92520398e-01,\n",
              "           1.73364007e+00, -4.20326263e-01,  4.63418037e-01,\n",
              "          -8.23099136e-01]], dtype=float32),\n",
              "  array([ 3.3098584e-01,  5.1138884e-01,  1.8207714e-01,  6.0888357e-02,\n",
              "         -1.4334445e-01,  6.9713980e-01,  1.8969813e-04,  9.6380726e-02,\n",
              "         -1.3882611e-02,  3.7532413e-01,  3.7692675e-01, -4.0550705e-02,\n",
              "          5.4532361e-01, -1.7732927e-01, -3.5812676e-01,  4.3012196e-01],\n",
              "        dtype=float32)],\n",
              " 'dense_2': [array([[-2.7463045 ,  1.1062169 ,  0.9393725 , -0.90799505,  0.9883253 ,\n",
              "          -0.71363705,  0.57411367, -0.81052274, -0.4409554 , -0.1704098 ],\n",
              "         [ 0.844316  ,  0.53233606, -1.5020703 ,  1.0089215 , -2.8629313 ,\n",
              "           0.6985666 ,  0.87100345, -3.5175061 , -0.02371458, -0.7443294 ],\n",
              "         [ 0.65757996, -0.67287606, -0.06151493,  0.3304103 , -1.4641049 ,\n",
              "           1.5798709 , -0.6505597 , -1.867784  ,  0.11587734, -1.4284109 ],\n",
              "         [ 0.19190551, -1.6610509 ,  1.3254251 ,  0.9441005 , -0.01492884,\n",
              "          -0.9357426 ,  0.4732375 , -2.0330584 , -0.30143708, -0.2389177 ],\n",
              "         [ 1.3187674 , -2.6462893 , -0.07884353, -0.79587805, -0.6369163 ,\n",
              "           0.59324944, -0.43153238, -0.8993508 ,  0.96477973,  0.57915455],\n",
              "         [ 1.3858645 ,  0.6261624 ,  1.3241765 ,  0.06540454, -0.6244674 ,\n",
              "          -2.5988324 ,  1.1172016 ,  1.7587925 , -2.9588914 , -0.08462635],\n",
              "         [ 0.3127037 ,  0.298203  , -0.43279323,  0.00420817,  0.46056134,\n",
              "           0.07263112,  0.06677751, -0.17097823, -0.0956113 ,  0.1615718 ],\n",
              "         [-1.3711946 , -1.4088966 , -0.8818845 ,  0.9593011 ,  0.48680872,\n",
              "           0.785966  , -2.4695735 ,  1.2222104 , -1.0895171 ,  0.4135848 ],\n",
              "         [ 0.88761765, -0.31001714, -1.2243097 ,  0.95625454, -0.52944356,\n",
              "           0.79386413,  1.0892698 , -0.13491955, -1.4610181 , -0.20880832],\n",
              "         [ 0.68597865,  0.21978799,  0.96736515, -0.7891222 , -3.3003461 ,\n",
              "          -0.700682  , -0.842435  ,  1.6304846 ,  0.1264732 , -1.4147089 ],\n",
              "         [ 0.8346004 , -1.012571  ,  0.9030366 , -1.5250881 ,  0.2682668 ,\n",
              "           0.8588158 ,  0.8018574 , -2.0132651 ,  0.33888733, -2.3211007 ],\n",
              "         [-0.3842931 ,  0.35944343, -0.07327797,  0.46131745, -0.23859434,\n",
              "           0.21243387,  0.02693885, -0.08029953,  0.40590632,  0.46777362],\n",
              "         [-1.9382955 ,  1.5530075 ,  1.2588627 ,  0.86926794, -2.3558192 ,\n",
              "          -0.5528183 , -2.5946271 ,  0.74982446,  0.5773316 , -0.77363765],\n",
              "         [-2.0606797 ,  1.0269008 , -1.7253788 , -0.15150495,  0.914508  ,\n",
              "          -1.8520852 ,  0.6746953 , -0.96127796,  1.1125157 ,  1.1460541 ],\n",
              "         [ 0.2829979 , -1.4998653 , -0.9118673 , -1.3952905 , -0.12796219,\n",
              "          -0.7768647 , -1.3344631 ,  0.78032583,  0.96432394,  1.4584558 ],\n",
              "         [-0.27506793,  0.9546377 , -2.1329758 , -1.6447741 ,  0.99979055,\n",
              "           0.40988618,  1.494044  ,  0.86098224, -0.9074958 , -0.87814885]],\n",
              "        dtype=float32),\n",
              "  array([ 0.26062363,  0.4800002 ,  0.60361874,  0.2017874 , -0.36955664,\n",
              "         -0.12809612, -0.2443415 ,  0.4179079 , -0.77017206, -0.19845803],\n",
              "        dtype=float32)]}"
            ]
          },
          "metadata": {},
          "execution_count": 12
        }
      ]
    },
    {
      "cell_type": "code",
      "source": [
        "weights1, biases1 = model.layers[1].get_weights()\n",
        "print(weights1)"
      ],
      "metadata": {
        "colab": {
          "base_uri": "https://localhost:8080/"
        },
        "id": "p67v8xTZkXtA",
        "outputId": "8864ada0-c13e-4182-fb7a-9809f323e33e"
      },
      "execution_count": 13,
      "outputs": [
        {
          "output_type": "stream",
          "name": "stdout",
          "text": [
            "[[ 0.0162668   0.03058963 -0.06468784 ... -0.06870538  0.0218804\n",
            "  -0.03457342]\n",
            " [ 0.07421759  0.05263254 -0.0410534  ... -0.07976393 -0.05124709\n",
            "  -0.04284097]\n",
            " [-0.00113015 -0.05744188  0.06733198 ... -0.02182895 -0.0598293\n",
            "   0.08648893]\n",
            " ...\n",
            " [-0.04876927 -0.03389257 -0.0162816  ... -0.05383884  0.01972526\n",
            "  -0.04820038]\n",
            " [ 0.04465882 -0.06910752  0.00117283 ... -0.02244427 -0.02184474\n",
            "  -0.02969358]\n",
            " [ 0.06998035 -0.0458209   0.07212129 ...  0.08213325  0.00218849\n",
            "   0.08243681]]\n"
          ]
        }
      ]
    },
    {
      "cell_type": "code",
      "source": [
        "# cannot easily visualize filters lower down\n",
        "from matplotlib import pyplot\n",
        "# normalize weights values to 0-1 so we can visualize them\n",
        "f_min, f_max = weights1.min(), weights1.max()\n",
        "weights1 = (weights1 - f_min) / (f_max - f_min)\n",
        "print(weights1)"
      ],
      "metadata": {
        "colab": {
          "base_uri": "https://localhost:8080/"
        },
        "id": "tQC7P7JpDtw6",
        "outputId": "8a24e676-bcbf-402c-e4e6-c9afd00292fc"
      },
      "execution_count": 14,
      "outputs": [
        {
          "output_type": "stream",
          "name": "stdout",
          "text": [
            "[[0.4738781  0.47591552 0.4623622  ... 0.4617907  0.4746766  0.46664602]\n",
            " [0.48212165 0.47905114 0.46572423 ... 0.4602176  0.46427414 0.46546993]\n",
            " [0.47140336 0.4633929  0.48114216 ... 0.46845892 0.46305335 0.48386726]\n",
            " ...\n",
            " [0.46462664 0.46674284 0.46924803 ... 0.46390548 0.47437006 0.46470755]\n",
            " [0.4779169  0.4617335  0.47173095 ... 0.4683714  0.46845666 0.46734017]\n",
            " [0.4815189  0.46504602 0.48182347 ... 0.48324767 0.47187543 0.48329085]]\n"
          ]
        }
      ]
    },
    {
      "cell_type": "code",
      "source": [
        "# Get the weights from the first Hidden layer\n",
        "print(weights1.shape)\n",
        "\n",
        "# Check if the shape is compatible for reshaping\n",
        "if weights1.shape != (28 * 28, 16):\n",
        "    print(\"The shape of the weights array is not compatible for reshaping.\")\n",
        "\n",
        "# Reshape weights into 16 images of 28 by 28\n",
        "weights1_images = weights1.reshape(-1, 28, 28)\n",
        "\n",
        "# Plot the weights\n",
        "fig, axes = plt.subplots(4, 4)\n",
        "for i, ax in enumerate(axes.flat):\n",
        "#    ax.matshow(weights1_images[i], cmap='viridis')\n",
        "    ax.matshow(weights1_images[i], cmap=plt.cm.gray, vmin=f_min, vmax=f_max)\n",
        "    ax.axis('off')\n",
        "\n",
        "plt.show()"
      ],
      "metadata": {
        "colab": {
          "base_uri": "https://localhost:8080/",
          "height": 424
        },
        "id": "ReVfIObmNkPH",
        "outputId": "45215826-3ccd-4317-a005-9cd1ff90476d"
      },
      "execution_count": 15,
      "outputs": [
        {
          "output_type": "stream",
          "name": "stdout",
          "text": [
            "(784, 16)\n"
          ]
        },
        {
          "output_type": "display_data",
          "data": {
            "text/plain": [
              "<Figure size 640x480 with 16 Axes>"
            ],
            "image/png": "[encoded data removed]"
          },
          "metadata": {}
        }
      ]
    },
    {
      "cell_type": "code",
      "source": [
        "# Get the weights from the first Hidden layer\n",
        "weights2, biases2 = model.layers[2].get_weights()\n",
        "print(weights2.shape)\n",
        "\n",
        "# normalize weights values to 0-1 so we can visualize them\n",
        "f_min, f_max = weights2.min(), weights2.max()\n",
        "weights2 = (weights2 - f_min) / (f_max - f_min)\n",
        "\n",
        "# Check if the shape is compatible for reshaping\n",
        "if weights2.shape != (4 * 4, 16):\n",
        "    print(\"The shape of the weights array is not compatible for reshaping.\")\n",
        "\n",
        "# Reshape weights into 16 images of 28 by 28\n",
        "weights2_images = weights2.reshape(-1, 4, 4)\n",
        "\n",
        "# Plot the weights\n",
        "fig, axes = plt.subplots(4, 4)\n",
        "for i, ax in enumerate(axes.flat):\n",
        "#    ax.matshow(weights2_images[i], cmap='viridis')\n",
        "    ax.matshow(weights2_images[i], cmap=plt.cm.gray, vmin=f_min, vmax=f_max)\n",
        "    ax.axis('off')\n",
        "\n",
        "plt.show()"
      ],
      "metadata": {
        "colab": {
          "base_uri": "https://localhost:8080/",
          "height": 424
        },
        "id": "k_DVuVUK0ubJ",
        "outputId": "de08a54d-e97d-4b22-99cc-523ab702050a"
      },
      "execution_count": 16,
      "outputs": [
        {
          "output_type": "stream",
          "name": "stdout",
          "text": [
            "(16, 16)\n"
          ]
        },
        {
          "output_type": "display_data",
          "data": {
            "text/plain": [
              "<Figure size 640x480 with 16 Axes>"
            ],
            "image/png": "[encoded data removed]"
          },
          "metadata": {}
        }
      ]
    },
    {
      "cell_type": "markdown",
      "source": [
        "***... now you have to put your 10 digit images in content folder...***\n",
        "these images have to be labelled digit_x.png, in an 28x28 resolution"
      ],
      "metadata": {
        "id": "_s5Er1KcnBh0"
      }
    },
    {
      "cell_type": "code",
      "source": [
        "import cv2"
      ],
      "metadata": {
        "id": "mY8gVkDbWt9x"
      },
      "execution_count": 17,
      "outputs": []
    },
    {
      "cell_type": "code",
      "source": [
        "image = cv2.imread('digit_3.png')[:,:,0]\n",
        "image = np.invert(np.array([image]))"
      ],
      "metadata": {
        "id": "NIQqjpsTX79E"
      },
      "execution_count": 19,
      "outputs": []
    },
    {
      "cell_type": "code",
      "source": [
        "output = model.predict(image)\n",
        "plt.imshow(image[0])\n",
        "print(np.argmax(output))"
      ],
      "metadata": {
        "colab": {
          "base_uri": "https://localhost:8080/",
          "height": 466
        },
        "id": "vQqIwlTaZSny",
        "outputId": "af122781-98c3-455d-abf6-73dce0d34c9a"
      },
      "execution_count": 20,
      "outputs": [
        {
          "output_type": "stream",
          "name": "stdout",
          "text": [
            "1/1 [==============================] - 0s 106ms/step\n",
            "3\n"
          ]
        },
        {
          "output_type": "display_data",
          "data": {
            "text/plain": [
              "<Figure size 640x480 with 1 Axes>"
            ],
            "image/png": "[encoded data removed]"
          },
          "metadata": {}
        }
      ]
    },
    {
      "cell_type": "code",
      "source": [
        "model.save('/content/hand_written_Digit_recog_model.keras')"
      ],
      "metadata": {
        "id": "1wzUfiKhZ2gO"
      },
      "execution_count": 21,
      "outputs": []
    },
    {
      "cell_type": "code",
      "source": [
        "!pip install streamlit"
      ],
      "metadata": {
        "colab": {
          "base_uri": "https://localhost:8080/"
        },
        "id": "ZizRHYiCbXgP",
        "outputId": "d7899530-f31b-4b8e-ede4-7fb192fb0d53"
      },
      "execution_count": 22,
      "outputs": [
        {
          "output_type": "stream",
          "name": "stdout",
          "text": [
            "Collecting streamlit\n",
            "  Downloading streamlit-1.32.2-py2.py3-none-any.whl (8.1 MB)\n",
            "\u001b[2K     \u001b[90m━━━━━━━━━━━━━━━━━━━━━━━━━━━━━━━━━━━━━━━━\u001b[0m \u001b[32m8.1/8.1 MB\u001b[0m \u001b[31m20.3 MB/s\u001b[0m eta \u001b[36m0:00:00\u001b[0m\n",
            "\u001b[?25hRequirement already satisfied: altair<6,>=4.0 in /usr/local/lib/python3.10/dist-packages (from streamlit) (4.2.2)\n",
            "Requirement already satisfied: blinker<2,>=1.0.0 in /usr/lib/python3/dist-packages (from streamlit) (1.4)\n",
            "Requirement already satisfied: cachetools<6,>=4.0 in /usr/local/lib/python3.10/dist-packages (from streamlit) (5.3.3)\n",
            "Requirement already satisfied: click<9,>=7.0 in /usr/local/lib/python3.10/dist-packages (from streamlit) (8.1.7)\n",
            "Requirement already satisfied: numpy<2,>=1.19.3 in /usr/local/lib/python3.10/dist-packages (from streamlit) (1.25.2)\n",
            "Collecting packaging<24,>=16.8 (from streamlit)\n",
            "  Downloading packaging-23.2-py3-none-any.whl (53 kB)\n",
            "\u001b[2K     \u001b[90m━━━━━━━━━━━━━━━━━━━━━━━━━━━━━━━━━━━━━━━━\u001b[0m \u001b[32m53.0/53.0 kB\u001b[0m \u001b[31m6.4 MB/s\u001b[0m eta \u001b[36m0:00:00\u001b[0m\n",
            "\u001b[?25hRequirement already satisfied: pandas<3,>=1.3.0 in /usr/local/lib/python3.10/dist-packages (from streamlit) (2.0.3)\n",
            "Requirement already satisfied: pillow<11,>=7.1.0 in /usr/local/lib/python3.10/dist-packages (from streamlit) (9.4.0)\n",
            "Requirement already satisfied: protobuf<5,>=3.20 in /usr/local/lib/python3.10/dist-packages (from streamlit) (3.20.3)\n",
            "Requirement already satisfied: pyarrow>=7.0 in /usr/local/lib/python3.10/dist-packages (from streamlit) (14.0.2)\n",
            "Requirement already satisfied: requests<3,>=2.27 in /usr/local/lib/python3.10/dist-packages (from streamlit) (2.31.0)\n",
            "Requirement already satisfied: rich<14,>=10.14.0 in /usr/local/lib/python3.10/dist-packages (from streamlit) (13.7.1)\n",
            "Requirement already satisfied: tenacity<9,>=8.1.0 in /usr/local/lib/python3.10/dist-packages (from streamlit) (8.2.3)\n",
            "Requirement already satisfied: toml<2,>=0.10.1 in /usr/local/lib/python3.10/dist-packages (from streamlit) (0.10.2)\n",
            "Requirement already satisfied: typing-extensions<5,>=4.3.0 in /usr/local/lib/python3.10/dist-packages (from streamlit) (4.10.0)\n",
            "Collecting gitpython!=3.1.19,<4,>=3.0.7 (from streamlit)\n",
            "  Downloading GitPython-3.1.43-py3-none-any.whl (207 kB)\n",
            "\u001b[2K     \u001b[90m━━━━━━━━━━━━━━━━━━━━━━━━━━━━━━━━━━━━━━━━\u001b[0m \u001b[32m207.3/207.3 kB\u001b[0m \u001b[31m20.6 MB/s\u001b[0m eta \u001b[36m0:00:00\u001b[0m\n",
            "\u001b[?25hCollecting pydeck<1,>=0.8.0b4 (from streamlit)\n",
            "  Downloading pydeck-0.8.1b0-py2.py3-none-any.whl (4.8 MB)\n",
            "\u001b[2K     \u001b[90m━━━━━━━━━━━━━━━━━━━━━━━━━━━━━━━━━━━━━━━━\u001b[0m \u001b[32m4.8/4.8 MB\u001b[0m \u001b[31m20.4 MB/s\u001b[0m eta \u001b[36m0:00:00\u001b[0m\n",
            "\u001b[?25hRequirement already satisfied: tornado<7,>=6.0.3 in /usr/local/lib/python3.10/dist-packages (from streamlit) (6.3.3)\n",
            "Collecting watchdog>=2.1.5 (from streamlit)\n",
            "  Downloading watchdog-4.0.0-py3-none-manylinux2014_x86_64.whl (82 kB)\n",
            "\u001b[2K     \u001b[90m━━━━━━━━━━━━━━━━━━━━━━━━━━━━━━━━━━━━━━━━\u001b[0m \u001b[32m83.0/83.0 kB\u001b[0m \u001b[31m6.5 MB/s\u001b[0m eta \u001b[36m0:00:00\u001b[0m\n",
            "\u001b[?25hRequirement already satisfied: entrypoints in /usr/local/lib/python3.10/dist-packages (from altair<6,>=4.0->streamlit) (0.4)\n",
            "Requirement already satisfied: jinja2 in /usr/local/lib/python3.10/dist-packages (from altair<6,>=4.0->streamlit) (3.1.3)\n",
            "Requirement already satisfied: jsonschema>=3.0 in /usr/local/lib/python3.10/dist-packages (from altair<6,>=4.0->streamlit) (4.19.2)\n",
            "Requirement already satisfied: toolz in /usr/local/lib/python3.10/dist-packages (from altair<6,>=4.0->streamlit) (0.12.1)\n",
            "Collecting gitdb<5,>=4.0.1 (from gitpython!=3.1.19,<4,>=3.0.7->streamlit)\n",
            "  Downloading gitdb-4.0.11-py3-none-any.whl (62 kB)\n",
            "\u001b[2K     \u001b[90m━━━━━━━━━━━━━━━━━━━━━━━━━━━━━━━━━━━━━━━━\u001b[0m \u001b[32m62.7/62.7 kB\u001b[0m \u001b[31m6.7 MB/s\u001b[0m eta \u001b[36m0:00:00\u001b[0m\n",
            "\u001b[?25hRequirement already satisfied: python-dateutil>=2.8.2 in /usr/local/lib/python3.10/dist-packages (from pandas<3,>=1.3.0->streamlit) (2.8.2)\n",
            "Requirement already satisfied: pytz>=2020.1 in /usr/local/lib/python3.10/dist-packages (from pandas<3,>=1.3.0->streamlit) (2023.4)\n",
            "Requirement already satisfied: tzdata>=2022.1 in /usr/local/lib/python3.10/dist-packages (from pandas<3,>=1.3.0->streamlit) (2024.1)\n",
            "Requirement already satisfied: charset-normalizer<4,>=2 in /usr/local/lib/python3.10/dist-packages (from requests<3,>=2.27->streamlit) (3.3.2)\n",
            "Requirement already satisfied: idna<4,>=2.5 in /usr/local/lib/python3.10/dist-packages (from requests<3,>=2.27->streamlit) (3.6)\n",
            "Requirement already satisfied: urllib3<3,>=1.21.1 in /usr/local/lib/python3.10/dist-packages (from requests<3,>=2.27->streamlit) (2.0.7)\n",
            "Requirement already satisfied: certifi>=2017.4.17 in /usr/local/lib/python3.10/dist-packages (from requests<3,>=2.27->streamlit) (2024.2.2)\n",
            "Requirement already satisfied: markdown-it-py>=2.2.0 in /usr/local/lib/python3.10/dist-packages (from rich<14,>=10.14.0->streamlit) (3.0.0)\n",
            "Requirement already satisfied: pygments<3.0.0,>=2.13.0 in /usr/local/lib/python3.10/dist-packages (from rich<14,>=10.14.0->streamlit) (2.16.1)\n",
            "Collecting smmap<6,>=3.0.1 (from gitdb<5,>=4.0.1->gitpython!=3.1.19,<4,>=3.0.7->streamlit)\n",
            "  Downloading smmap-5.0.1-py3-none-any.whl (24 kB)\n",
            "Requirement already satisfied: MarkupSafe>=2.0 in /usr/local/lib/python3.10/dist-packages (from jinja2->altair<6,>=4.0->streamlit) (2.1.5)\n",
            "Requirement already satisfied: attrs>=22.2.0 in /usr/local/lib/python3.10/dist-packages (from jsonschema>=3.0->altair<6,>=4.0->streamlit) (23.2.0)\n",
            "Requirement already satisfied: jsonschema-specifications>=2023.03.6 in /usr/local/lib/python3.10/dist-packages (from jsonschema>=3.0->altair<6,>=4.0->streamlit) (2023.12.1)\n",
            "Requirement already satisfied: referencing>=0.28.4 in /usr/local/lib/python3.10/dist-packages (from jsonschema>=3.0->altair<6,>=4.0->streamlit) (0.34.0)\n",
            "Requirement already satisfied: rpds-py>=0.7.1 in /usr/local/lib/python3.10/dist-packages (from jsonschema>=3.0->altair<6,>=4.0->streamlit) (0.18.0)\n",
            "Requirement already satisfied: mdurl~=0.1 in /usr/local/lib/python3.10/dist-packages (from markdown-it-py>=2.2.0->rich<14,>=10.14.0->streamlit) (0.1.2)\n",
            "Requirement already satisfied: six>=1.5 in /usr/local/lib/python3.10/dist-packages (from python-dateutil>=2.8.2->pandas<3,>=1.3.0->streamlit) (1.16.0)\n",
            "Installing collected packages: watchdog, smmap, packaging, pydeck, gitdb, gitpython, streamlit\n",
            "  Attempting uninstall: packaging\n",
            "    Found existing installation: packaging 24.0\n",
            "    Uninstalling packaging-24.0:\n",
            "      Successfully uninstalled packaging-24.0\n",
            "Successfully installed gitdb-4.0.11 gitpython-3.1.43 packaging-23.2 pydeck-0.8.1b0 smmap-5.0.1 streamlit-1.32.2 watchdog-4.0.0\n"
          ]
        }
      ]
    },
    {
      "cell_type": "code",
      "source": [
        "!npm install localtunnel"
      ],
      "metadata": {
        "colab": {
          "base_uri": "https://localhost:8080/"
        },
        "id": "zsLuDRWxZ6Km",
        "outputId": "e6bbf664-286e-499a-ac55-e20793679a3d"
      },
      "execution_count": 23,
      "outputs": [
        {
          "output_type": "stream",
          "name": "stdout",
          "text": [
            "\u001b[K\u001b[?25h\u001b[37;40mnpm\u001b[0m \u001b[0m\u001b[30;43mWARN\u001b[0m \u001b[0m\u001b[35msaveError\u001b[0m ENOENT: no such file or directory, open '/content/package.json'\n",
            "\u001b[0m\u001b[37;40mnpm\u001b[0m \u001b[0m\u001b[34;40mnotice\u001b[0m\u001b[35m\u001b[0m created a lockfile as package-lock.json. You should commit this file.\n",
            "\u001b[0m\u001b[37;40mnpm\u001b[0m \u001b[0m\u001b[30;43mWARN\u001b[0m \u001b[0m\u001b[35menoent\u001b[0m ENOENT: no such file or directory, open '/content/package.json'\n",
            "\u001b[0m\u001b[37;40mnpm\u001b[0m \u001b[0m\u001b[30;43mWARN\u001b[0m\u001b[35m\u001b[0m content No description\n",
            "\u001b[0m\u001b[37;40mnpm\u001b[0m \u001b[0m\u001b[30;43mWARN\u001b[0m\u001b[35m\u001b[0m content No repository field.\n",
            "\u001b[0m\u001b[37;40mnpm\u001b[0m \u001b[0m\u001b[30;43mWARN\u001b[0m\u001b[35m\u001b[0m content No README data\n",
            "\u001b[0m\u001b[37;40mnpm\u001b[0m \u001b[0m\u001b[30;43mWARN\u001b[0m\u001b[35m\u001b[0m content No license field.\n",
            "\u001b[0m\n",
            "+ localtunnel@2.0.2\n",
            "added 22 packages from 22 contributors and audited 22 packages in 2.456s\n",
            "\n",
            "3 packages are looking for funding\n",
            "  run `npm fund` for details\n",
            "\n",
            "found 1 \u001b[93mmoderate\u001b[0m severity vulnerability\n",
            "  run `npm audit fix` to fix them, or `npm audit` for details\n",
            "\u001b[K\u001b[?25h"
          ]
        }
      ]
    },
    {
      "cell_type": "code",
      "source": [
        "!streamlit run /content/julien_web_app.py &> /content/logs.txt &"
      ],
      "metadata": {
        "id": "8DZcJzv0aJhX"
      },
      "execution_count": 24,
      "outputs": []
    },
    {
      "cell_type": "code",
      "source": [
        "!npx localtunnel --port 8501"
      ],
      "metadata": {
        "colab": {
          "base_uri": "https://localhost:8080/"
        },
        "id": "ZtuiqVfvaMZt",
        "outputId": "c21f7fd0-913c-4f45-96c9-fb61ce25f155"
      },
      "execution_count": 25,
      "outputs": [
        {
          "output_type": "stream",
          "name": "stdout",
          "text": [
            "\u001b[K\u001b[?25hnpx: installed 22 in 2.399s\n",
            "your url is: https://two-paws-own.loca.lt\n",
            "^C\n"
          ]
        }
      ]
    }
  ]
}