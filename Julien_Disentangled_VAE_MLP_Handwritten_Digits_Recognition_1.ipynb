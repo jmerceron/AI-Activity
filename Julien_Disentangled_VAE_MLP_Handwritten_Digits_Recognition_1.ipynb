{
  "nbformat": 4,
  "nbformat_minor": 0,
  "metadata": {
    "colab": {
      "provenance": [],
      "authorship_tag": "ABX9TyPiVTs4qD1+Q/sgARimI0dw",
      "include_colab_link": true
    },
    "kernelspec": {
      "name": "python3",
      "display_name": "Python 3"
    },
    "language_info": {
      "name": "python"
    }
  },
  "cells": [
    {
      "cell_type": "markdown",
      "metadata": {
        "id": "view-in-github",
        "colab_type": "text"
      },
      "source": [
        "<a href=\"https://colab.research.google.com/github/jmerceron/AI-Activity/blob/main/Julien_Disentangled_VAE_MLP_Handwritten_Digits_Recognition_1.ipynb\" target=\"_parent\"><img src=\"https://colab.research.google.com/assets/colab-badge.svg\" alt=\"Open In Colab\"/></a>"
      ]
    },
    {
      "cell_type": "code",
      "source": [
        "# Install the library\n",
        "%pip install pythae"
      ],
      "metadata": {
        "id": "6VEoPaF2Bx9W"
      },
      "execution_count": null,
      "outputs": []
    },
    {
      "cell_type": "code",
      "source": [
        "import torch\n",
        "import torchvision.datasets as datasets\n",
        "\n",
        "device = \"cuda\" if torch.cuda.is_available() else \"cpu\"\n",
        "\n",
        "%load_ext autoreload\n",
        "%autoreload 2"
      ],
      "metadata": {
        "id": "d0q_icw6B0oQ"
      },
      "execution_count": null,
      "outputs": []
    },
    {
      "cell_type": "code",
      "source": [
        "mnist_trainset = datasets.MNIST(root='../../data', train=True, download=True, transform=None)\n",
        "\n",
        "train_dataset = mnist_trainset.data[:-10000].reshape(-1, 1, 28, 28) / 255.\n",
        "eval_dataset = mnist_trainset.data[-10000:].reshape(-1, 1, 28, 28) / 255."
      ],
      "metadata": {
        "id": "1OUok8OXB4LN"
      },
      "execution_count": null,
      "outputs": []
    },
    {
      "cell_type": "code",
      "source": [
        "from pythae.models import BetaVAE, BetaVAEConfig\n",
        "from pythae.trainers import BaseTrainerConfig\n",
        "from pythae.pipelines.training import TrainingPipeline\n",
        "from pythae.models.nn.benchmarks.mnist import Encoder_ResNet_VAE_MNIST, Decoder_ResNet_AE_MNIST"
      ],
      "metadata": {
        "id": "kS0dAwV_B4Ii"
      },
      "execution_count": null,
      "outputs": []
    },
    {
      "cell_type": "code",
      "source": [
        "config = BaseTrainerConfig(\n",
        "    output_dir='my_model',\n",
        "    learning_rate=1e-4,\n",
        "    per_device_train_batch_size=64,\n",
        "    per_device_eval_batch_size=64,\n",
        "    num_epochs=10, # Change this to train the model a bit more\n",
        ")\n",
        "\n",
        "\n",
        "model_config = BetaVAEConfig(\n",
        "    input_dim=(1, 28, 28),\n",
        "    latent_dim=16,\n",
        "    beta=2.\n",
        "\n",
        ")\n",
        "\n",
        "model = BetaVAE(\n",
        "    model_config=model_config,\n",
        "    encoder=Encoder_ResNet_VAE_MNIST(model_config),\n",
        "    decoder=Decoder_ResNet_AE_MNIST(model_config)\n",
        ")"
      ],
      "metadata": {
        "id": "AEpvUAYOB4FU"
      },
      "execution_count": null,
      "outputs": []
    },
    {
      "cell_type": "code",
      "source": [
        "pipeline = TrainingPipeline(\n",
        "    training_config=config,\n",
        "    model=model\n",
        ")"
      ],
      "metadata": {
        "id": "qK2OPC8KB4CN"
      },
      "execution_count": null,
      "outputs": []
    },
    {
      "cell_type": "code",
      "source": [
        "pipeline(\n",
        "    train_data=train_dataset,\n",
        "    eval_data=eval_dataset\n",
        ")"
      ],
      "metadata": {
        "id": "HBPUGrAGB3_c"
      },
      "execution_count": null,
      "outputs": []
    },
    {
      "cell_type": "code",
      "source": [
        "import os\n",
        "from pythae.models import AutoModel"
      ],
      "metadata": {
        "id": "4JPI-mxTB39o"
      },
      "execution_count": null,
      "outputs": []
    },
    {
      "cell_type": "code",
      "source": [
        "last_training = sorted(os.listdir('my_model'))[-1]\n",
        "trained_model = AutoModel.load_from_folder(os.path.join('my_model', last_training, 'final_model'))"
      ],
      "metadata": {
        "id": "_C4z89QAB37H"
      },
      "execution_count": null,
      "outputs": []
    },
    {
      "cell_type": "code",
      "source": [
        "from pythae.samplers import NormalSampler"
      ],
      "metadata": {
        "id": "PGLAcLOVB3zJ"
      },
      "execution_count": null,
      "outputs": []
    },
    {
      "cell_type": "code",
      "source": [
        "# create normal sampler\n",
        "normal_samper = NormalSampler(\n",
        "    model=trained_model\n",
        ")"
      ],
      "metadata": {
        "id": "L-FQqC2jCThG"
      },
      "execution_count": null,
      "outputs": []
    },
    {
      "cell_type": "code",
      "source": [
        "# sample\n",
        "gen_data = normal_samper.sample(\n",
        "    num_samples=25\n",
        ")"
      ],
      "metadata": {
        "id": "SQ42ZDhkCTa9"
      },
      "execution_count": null,
      "outputs": []
    },
    {
      "cell_type": "code",
      "source": [
        "import matplotlib.pyplot as plt"
      ],
      "metadata": {
        "id": "hRgAPUX2CfKr"
      },
      "execution_count": null,
      "outputs": []
    },
    {
      "cell_type": "code",
      "source": [
        "# show results with normal sampler\n",
        "fig, axes = plt.subplots(nrows=5, ncols=5, figsize=(10, 10))\n",
        "\n",
        "for i in range(5):\n",
        "    for j in range(5):\n",
        "        axes[i][j].imshow(gen_data[i*5 +j].cpu().squeeze(0), cmap='gray')\n",
        "        axes[i][j].axis('off')\n",
        "plt.tight_layout(pad=0.)"
      ],
      "metadata": {
        "id": "_B8XkYPwCTYg"
      },
      "execution_count": null,
      "outputs": []
    },
    {
      "cell_type": "code",
      "source": [
        "from pythae.samplers import GaussianMixtureSampler, GaussianMixtureSamplerConfig"
      ],
      "metadata": {
        "id": "F5NR9kQUCfQD"
      },
      "execution_count": null,
      "outputs": []
    },
    {
      "cell_type": "code",
      "source": [
        "# set up gmm sampler config\n",
        "gmm_sampler_config = GaussianMixtureSamplerConfig(\n",
        "    n_components=10\n",
        ")\n",
        "\n",
        "# create gmm sampler\n",
        "gmm_sampler = GaussianMixtureSampler(\n",
        "    sampler_config=gmm_sampler_config,\n",
        "    model=trained_model\n",
        ")\n",
        "\n",
        "# fit the sampler\n",
        "gmm_sampler.fit(train_dataset)"
      ],
      "metadata": {
        "id": "OUS-wXkvCf1p"
      },
      "execution_count": null,
      "outputs": []
    },
    {
      "cell_type": "code",
      "source": [
        "# sample\n",
        "gen_data = gmm_sampler.sample(\n",
        "    num_samples=25\n",
        ")"
      ],
      "metadata": {
        "id": "3ObVUL-7CqDz"
      },
      "execution_count": null,
      "outputs": []
    },
    {
      "cell_type": "code",
      "source": [
        "# show results with gmm sampler\n",
        "fig, axes = plt.subplots(nrows=5, ncols=5, figsize=(10, 10))\n",
        "\n",
        "for i in range(5):\n",
        "    for j in range(5):\n",
        "        axes[i][j].imshow(gen_data[i*5 +j].cpu().squeeze(0), cmap='gray')\n",
        "        axes[i][j].axis('off')\n",
        "plt.tight_layout(pad=0.)"
      ],
      "metadata": {
        "id": "RzDuOAf3CqPd"
      },
      "execution_count": null,
      "outputs": []
    },
    {
      "cell_type": "code",
      "source": [
        "reconstructions = trained_model.reconstruct(eval_dataset[:25].to(device)).detach().cpu()"
      ],
      "metadata": {
        "id": "TmUoDmOFCqRM"
      },
      "execution_count": null,
      "outputs": []
    },
    {
      "cell_type": "code",
      "source": [
        "# show reconstructions\n",
        "fig, axes = plt.subplots(nrows=5, ncols=5, figsize=(10, 10))\n",
        "\n",
        "for i in range(5):\n",
        "    for j in range(5):\n",
        "        axes[i][j].imshow(reconstructions[i*5 + j].cpu().squeeze(0), cmap='gray')\n",
        "        axes[i][j].axis('off')\n",
        "plt.tight_layout(pad=0.)"
      ],
      "metadata": {
        "id": "JvMxcp3BCqde"
      },
      "execution_count": null,
      "outputs": []
    },
    {
      "cell_type": "code",
      "source": [
        "# show the true data\n",
        "fig, axes = plt.subplots(nrows=5, ncols=5, figsize=(10, 10))\n",
        "\n",
        "for i in range(5):\n",
        "    for j in range(5):\n",
        "        axes[i][j].imshow(eval_dataset[i*5 +j].cpu().squeeze(0), cmap='gray')\n",
        "        axes[i][j].axis('off')\n",
        "plt.tight_layout(pad=0.)"
      ],
      "metadata": {
        "id": "hT5y9qEQCqp-"
      },
      "execution_count": null,
      "outputs": []
    },
    {
      "cell_type": "code",
      "source": [
        "interpolations = trained_model.interpolate(eval_dataset[:5].to(device), eval_dataset[5:10].to(device), granularity=10).detach().cpu()"
      ],
      "metadata": {
        "id": "rsIbggAXCf4I"
      },
      "execution_count": null,
      "outputs": []
    },
    {
      "cell_type": "code",
      "source": [
        "# show interpolations\n",
        "fig, axes = plt.subplots(nrows=5, ncols=10, figsize=(10, 5))\n",
        "\n",
        "for i in range(5):\n",
        "    for j in range(10):\n",
        "        axes[i][j].imshow(interpolations[i, j].cpu().squeeze(0), cmap='gray')\n",
        "        axes[i][j].axis('off')\n",
        "plt.tight_layout(pad=0.)"
      ],
      "metadata": {
        "id": "sZm_Wkm_Cf7U"
      },
      "execution_count": null,
      "outputs": []
    },
    {
      "cell_type": "code",
      "source": [],
      "metadata": {
        "id": "l0VdelLBB3oI"
      },
      "execution_count": null,
      "outputs": []
    },
    {
      "cell_type": "code",
      "source": [],
      "metadata": {
        "id": "NENiJeFgDDPT"
      },
      "execution_count": null,
      "outputs": []
    },
    {
      "cell_type": "code",
      "source": [],
      "metadata": {
        "id": "WF_Tins1DDK0"
      },
      "execution_count": null,
      "outputs": []
    },
    {
      "cell_type": "code",
      "source": [],
      "metadata": {
        "id": "qMm5zWEMDDH6"
      },
      "execution_count": null,
      "outputs": []
    },
    {
      "cell_type": "code",
      "source": [],
      "metadata": {
        "id": "QsrU0K51DDCC"
      },
      "execution_count": null,
      "outputs": []
    },
    {
      "cell_type": "code",
      "source": [],
      "metadata": {
        "id": "_QYn_-6QDC7a"
      },
      "execution_count": null,
      "outputs": []
    }
  ]
}