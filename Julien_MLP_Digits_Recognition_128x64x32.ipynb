{
  "nbformat": 4,
  "nbformat_minor": 0,
  "metadata": {
    "colab": {
      "provenance": [],
      "authorship_tag": "ABX9TyO7r+PWn/0DGUaAZqua4Q/n",
      "include_colab_link": true
    },
    "kernelspec": {
      "name": "python3",
      "display_name": "Python 3"
    },
    "language_info": {
      "name": "python"
    }
  },
  "cells": [
    {
      "cell_type": "markdown",
      "metadata": {
        "id": "view-in-github",
        "colab_type": "text"
      },
      "source": [
        "<a href=\"https://colab.research.google.com/github/jmerceron/AI-Activity/blob/main/Julien_MLP_Digits_Recognition_128x64x32.ipynb\" target=\"_parent\"><img src=\"https://colab.research.google.com/assets/colab-badge.svg\" alt=\"Open In Colab\"/></a>"
      ]
    },
    {
      "cell_type": "code",
      "execution_count": 1,
      "metadata": {
        "id": "nosdqwpjT36j"
      },
      "outputs": [],
      "source": [
        "import numpy as np\n",
        "import matplotlib.pyplot as plt\n",
        "import tensorflow as tf\n",
        "\n",
        "from tensorflow.keras.utils import plot_model"
      ]
    },
    {
      "cell_type": "code",
      "source": [
        "mnist = tf.keras.datasets.mnist"
      ],
      "metadata": {
        "id": "4VGDqK8aUjtZ"
      },
      "execution_count": 2,
      "outputs": []
    },
    {
      "cell_type": "code",
      "source": [
        "(x_train, y_train),(x_test, y_test) = mnist.load_data()"
      ],
      "metadata": {
        "id": "9oFlBIxdUoNW",
        "colab": {
          "base_uri": "https://localhost:8080/"
        },
        "outputId": "2f74e427-e833-45ee-ce9d-0c08116ecc5f"
      },
      "execution_count": 3,
      "outputs": [
        {
          "output_type": "stream",
          "name": "stdout",
          "text": [
            "Downloading data from https://storage.googleapis.com/tensorflow/tf-keras-datasets/mnist.npz\n",
            "11490434/11490434 [==============================] - 0s 0us/step\n"
          ]
        }
      ]
    },
    {
      "cell_type": "code",
      "source": [
        "print(x_train.shape, y_train.shape, x_test.shape, y_test.shape)"
      ],
      "metadata": {
        "colab": {
          "base_uri": "https://localhost:8080/"
        },
        "id": "7SFDBqvxUyC4",
        "outputId": "3e560897-6766-49db-fabb-8bd317bea43c"
      },
      "execution_count": 4,
      "outputs": [
        {
          "output_type": "stream",
          "name": "stdout",
          "text": [
            "(60000, 28, 28) (60000,) (10000, 28, 28) (10000,)\n"
          ]
        }
      ]
    },
    {
      "cell_type": "code",
      "source": [
        "plt.figure(figsize=(8,8))\n",
        "for i in range(9):\n",
        "  plt.subplot(3,3,i+1)\n",
        "  plt.imshow(x_train[i])\n",
        "  plt.title(y_train[i])\n",
        "  plt.axis('off')"
      ],
      "metadata": {
        "colab": {
          "base_uri": "https://localhost:8080/",
          "height": 675
        },
        "id": "lAUW-8WJU3Ez",
        "outputId": "06186e4e-69fa-41c3-e4cd-e304cf662516"
      },
      "execution_count": 5,
      "outputs": [
        {
          "output_type": "display_data",
          "data": {
            "text/plain": [
              "<Figure size 800x800 with 9 Axes>"
            ],
            "image/png": "[encoded data removed]"
          },
          "metadata": {}
        }
      ]
    },
    {
      "cell_type": "code",
      "source": [
        "x_train = tf.keras.utils.normalize(x_train, axis =0)\n",
        "x_test = tf.keras.utils.normalize(x_test, axis =0)"
      ],
      "metadata": {
        "id": "1NUu5MneVH4R"
      },
      "execution_count": 6,
      "outputs": []
    },
    {
      "cell_type": "code",
      "source": [
        "model = tf.keras.models.Sequential()\n",
        "model.add(tf.keras.layers.Flatten(input_shape = (28,28)))\n",
        "model.add(tf.keras.layers.Dense(128, activation = 'relu'))\n",
        "model.add(tf.keras.layers.Dense(64, activation = 'relu'))\n",
        "model.add(tf.keras.layers.Dense(32, activation = 'relu'))\n",
        "model.add(tf.keras.layers.Dense(10, activation='softmax'))"
      ],
      "metadata": {
        "id": "rig6HmUpVLir"
      },
      "execution_count": 7,
      "outputs": []
    },
    {
      "cell_type": "code",
      "source": [
        "model.summary()"
      ],
      "metadata": {
        "colab": {
          "base_uri": "https://localhost:8080/"
        },
        "id": "otx_9TwAVS10",
        "outputId": "7d6e76a2-8d22-4b1a-a21f-ca35ca8ee96a"
      },
      "execution_count": 8,
      "outputs": [
        {
          "output_type": "stream",
          "name": "stdout",
          "text": [
            "Model: \"sequential\"\n",
            "_________________________________________________________________\n",
            " Layer (type)                Output Shape              Param #   \n",
            "=================================================================\n",
            " flatten (Flatten)           (None, 784)               0         \n",
            "                                                                 \n",
            " dense (Dense)               (None, 128)               100480    \n",
            "                                                                 \n",
            " dense_1 (Dense)             (None, 64)                8256      \n",
            "                                                                 \n",
            " dense_2 (Dense)             (None, 32)                2080      \n",
            "                                                                 \n",
            " dense_3 (Dense)             (None, 10)                330       \n",
            "                                                                 \n",
            "=================================================================\n",
            "Total params: 111146 (434.16 KB)\n",
            "Trainable params: 111146 (434.16 KB)\n",
            "Non-trainable params: 0 (0.00 Byte)\n",
            "_________________________________________________________________\n"
          ]
        }
      ]
    },
    {
      "cell_type": "code",
      "source": [
        "plot_model(model, to_file='model_plot.png', show_shapes=True, show_layer_names=True)"
      ],
      "metadata": {
        "colab": {
          "base_uri": "https://localhost:8080/",
          "height": 644
        },
        "id": "Ic8MUGncBeie",
        "outputId": "548fd040-8036-4120-deb6-40ed5f8b1f86"
      },
      "execution_count": 9,
      "outputs": [
        {
          "output_type": "execute_result",
          "data": {
            "image/png": "[encoded data removed]",
            "text/plain": [
              "<IPython.core.display.Image object>"
            ]
          },
          "metadata": {},
          "execution_count": 9
        }
      ]
    },
    {
      "cell_type": "code",
      "source": [
        "model.compile(optimizer = 'adam', loss = tf.keras.losses.SparseCategoricalCrossentropy(from_logits=True), metrics =['accuracy'])"
      ],
      "metadata": {
        "id": "0OiRxucHVhlZ"
      },
      "execution_count": 10,
      "outputs": []
    },
    {
      "cell_type": "code",
      "source": [
        "model.fit(x_train, y_train, validation_data=(x_test, y_test), batch_size=32, epochs = 15)"
      ],
      "metadata": {
        "colab": {
          "base_uri": "https://localhost:8080/"
        },
        "id": "v43D5-brWGMI",
        "outputId": "f468eaa2-fb92-468d-aefb-ede7ac5af584"
      },
      "execution_count": 11,
      "outputs": [
        {
          "output_type": "stream",
          "name": "stdout",
          "text": [
            "Epoch 1/15\n"
          ]
        },
        {
          "output_type": "stream",
          "name": "stderr",
          "text": [
            "/usr/local/lib/python3.10/dist-packages/keras/src/backend.py:5727: UserWarning: \"`sparse_categorical_crossentropy` received `from_logits=True`, but the `output` argument was produced by a Softmax activation and thus does not represent logits. Was this intended?\n",
            "  output, from_logits = _get_logits(\n"
          ]
        },
        {
          "output_type": "stream",
          "name": "stdout",
          "text": [
            "1875/1875 [==============================] - 11s 5ms/step - loss: 0.5599 - accuracy: 0.8295 - val_loss: 0.4816 - val_accuracy: 0.8927\n",
            "Epoch 2/15\n",
            "1875/1875 [==============================] - 9s 5ms/step - loss: 0.2680 - accuracy: 0.9196 - val_loss: 0.3517 - val_accuracy: 0.9227\n",
            "Epoch 3/15\n",
            "1875/1875 [==============================] - 9s 5ms/step - loss: 0.1962 - accuracy: 0.9404 - val_loss: 0.2678 - val_accuracy: 0.9421\n",
            "Epoch 4/15\n",
            "1875/1875 [==============================] - 9s 5ms/step - loss: 0.1512 - accuracy: 0.9548 - val_loss: 0.2557 - val_accuracy: 0.9456\n",
            "Epoch 5/15\n",
            "1875/1875 [==============================] - 11s 6ms/step - loss: 0.1244 - accuracy: 0.9632 - val_loss: 0.2055 - val_accuracy: 0.9583\n",
            "Epoch 6/15\n",
            "1875/1875 [==============================] - 10s 5ms/step - loss: 0.1046 - accuracy: 0.9683 - val_loss: 0.2133 - val_accuracy: 0.9568\n",
            "Epoch 7/15\n",
            "1875/1875 [==============================] - 10s 5ms/step - loss: 0.0878 - accuracy: 0.9729 - val_loss: 0.2209 - val_accuracy: 0.9575\n",
            "Epoch 8/15\n",
            "1875/1875 [==============================] - 9s 5ms/step - loss: 0.0756 - accuracy: 0.9768 - val_loss: 0.2383 - val_accuracy: 0.9559\n",
            "Epoch 9/15\n",
            "1875/1875 [==============================] - 10s 5ms/step - loss: 0.0659 - accuracy: 0.9797 - val_loss: 0.2168 - val_accuracy: 0.9600\n",
            "Epoch 10/15\n",
            "1875/1875 [==============================] - 11s 6ms/step - loss: 0.0572 - accuracy: 0.9821 - val_loss: 0.2163 - val_accuracy: 0.9621\n",
            "Epoch 11/15\n",
            "1875/1875 [==============================] - 12s 6ms/step - loss: 0.0496 - accuracy: 0.9843 - val_loss: 0.2488 - val_accuracy: 0.9600\n",
            "Epoch 12/15\n",
            "1875/1875 [==============================] - 10s 5ms/step - loss: 0.0441 - accuracy: 0.9852 - val_loss: 0.2267 - val_accuracy: 0.9640\n",
            "Epoch 13/15\n",
            "1875/1875 [==============================] - 8s 4ms/step - loss: 0.0378 - accuracy: 0.9880 - val_loss: 0.2456 - val_accuracy: 0.9641\n",
            "Epoch 14/15\n",
            "1875/1875 [==============================] - 10s 5ms/step - loss: 0.0338 - accuracy: 0.9891 - val_loss: 0.2454 - val_accuracy: 0.9651\n",
            "Epoch 15/15\n",
            "1875/1875 [==============================] - 10s 5ms/step - loss: 0.0294 - accuracy: 0.9909 - val_loss: 0.2913 - val_accuracy: 0.9620\n"
          ]
        },
        {
          "output_type": "execute_result",
          "data": {
            "text/plain": [
              "<keras.src.callbacks.History at 0x78ddbadcb070>"
            ]
          },
          "metadata": {},
          "execution_count": 11
        }
      ]
    },
    {
      "cell_type": "code",
      "source": [
        "{layer.name: layer.get_weights() for layer in model.layers}"
      ],
      "metadata": {
        "colab": {
          "base_uri": "https://localhost:8080/"
        },
        "id": "kaCUxi-0a2ED",
        "outputId": "e16b2a8e-9722-4109-a59f-2b768f37e545"
      },
      "execution_count": 12,
      "outputs": [
        {
          "output_type": "execute_result",
          "data": {
            "text/plain": [
              "{'flatten': [],\n",
              " 'dense': [array([[-0.06592654,  0.04074224, -0.05315985, ...,  0.02438848,\n",
              "           0.05775695,  0.02308185],\n",
              "         [ 0.05961669,  0.01101388,  0.00697708, ...,  0.02767555,\n",
              "          -0.0364953 , -0.02418983],\n",
              "         [ 0.06003071,  0.00518056, -0.07527402, ..., -0.03776128,\n",
              "          -0.06572257, -0.00571021],\n",
              "         ...,\n",
              "         [-0.03394078, -0.0606411 ,  0.00136901, ...,  0.04795616,\n",
              "          -0.05914774, -0.02391958],\n",
              "         [ 0.01358866,  0.06621099,  0.05034674, ...,  0.00669714,\n",
              "           0.03243068, -0.0596912 ],\n",
              "         [ 0.02600241, -0.07141006,  0.07120457, ..., -0.01788738,\n",
              "          -0.03352116, -0.00718947]], dtype=float32),\n",
              "  array([ 0.03279711,  0.00926101,  0.02662341,  0.01075901,  0.03441141,\n",
              "         -0.00186372,  0.02320522,  0.00396336,  0.00798754,  0.0279052 ,\n",
              "          0.00945597, -0.00192012, -0.00751601,  0.07481964,  0.00331622,\n",
              "          0.00698994, -0.04892028,  0.02477162, -0.01635127,  0.00595123,\n",
              "         -0.02457534, -0.0274136 ,  0.02295619, -0.01084108, -0.02323787,\n",
              "         -0.03992044, -0.0086489 ,  0.0264879 , -0.01102391,  0.0001897 ,\n",
              "          0.0216738 ,  0.04098457, -0.0028062 , -0.02000849,  0.00850169,\n",
              "         -0.01588603,  0.00594974, -0.0142941 , -0.02032292,  0.03171742,\n",
              "         -0.01307611,  0.03035296, -0.009946  ,  0.01546331,  0.02448863,\n",
              "          0.01058754,  0.04029959,  0.02327156, -0.06228604, -0.00438788,\n",
              "          0.01967913,  0.00224321,  0.01027302,  0.03800821,  0.03495514,\n",
              "          0.01690607, -0.0052862 , -0.03090604, -0.06759431, -0.02479656,\n",
              "          0.00647403,  0.00856177,  0.01296382,  0.03342704, -0.01536235,\n",
              "          0.01257985,  0.00108848, -0.01882207, -0.01857797,  0.01024735,\n",
              "         -0.04366942,  0.00775079,  0.09997376,  0.00272024,  0.02477264,\n",
              "          0.00029376,  0.00964901,  0.0025607 ,  0.0108847 ,  0.02068342,\n",
              "         -0.00769085, -0.0056055 , -0.00770511,  0.01471609, -0.02354848,\n",
              "          0.02090891,  0.00962802, -0.00678545, -0.00345284, -0.01359229,\n",
              "          0.01208848,  0.00695346,  0.02982878,  0.0187228 ,  0.02370227,\n",
              "          0.00532223,  0.01119221,  0.01519263,  0.03125675,  0.04733089,\n",
              "         -0.01367513,  0.01969744,  0.03947999, -0.00629467, -0.00901361,\n",
              "          0.00914388, -0.00988576,  0.00475706,  0.03850049,  0.02511486,\n",
              "         -0.02661004,  0.0221086 , -0.00292622,  0.00922883,  0.00801046,\n",
              "         -0.0232788 , -0.01518566,  0.00267633,  0.01315621,  0.00178319,\n",
              "         -0.01443575, -0.01944696,  0.02592407,  0.02716899, -0.01431319,\n",
              "          0.03615635,  0.03086174, -0.01566031], dtype=float32)],\n",
              " 'dense_1': [array([[-0.2618882 ,  0.0130554 , -0.16810559, ...,  0.96285266,\n",
              "           0.94309646, -0.1574622 ],\n",
              "         [ 0.565273  , -0.20986846,  0.4764322 , ..., -0.13913651,\n",
              "          -0.11277885, -0.16866775],\n",
              "         [ 0.21012148,  0.12891257,  0.8318061 , ..., -0.13920765,\n",
              "           0.16497639, -0.00868978],\n",
              "         ...,\n",
              "         [-0.30391407, -0.04754494, -0.01221035, ...,  0.5116697 ,\n",
              "           1.0462748 , -0.18317126],\n",
              "         [ 0.477552  , -0.12092683,  0.21467082, ..., -0.27290186,\n",
              "           0.13184   ,  0.04254747],\n",
              "         [-0.26842058, -0.14285092,  0.12761073, ...,  0.06691654,\n",
              "          -0.0331842 ,  0.12560597]], dtype=float32),\n",
              "  array([ 0.06173689, -0.05392127,  0.0786946 , -0.02188944,  0.05050537,\n",
              "          0.08950841,  0.15762198,  0.02008999, -0.0359989 ,  0.06954384,\n",
              "         -0.02890391,  0.1490584 ,  0.04149058, -0.03646952,  0.06849567,\n",
              "         -0.02528425,  0.21092637,  0.10123482,  0.06227252,  0.06102489,\n",
              "          0.10616824,  0.0565768 ,  0.10501055, -0.05276345,  0.04807121,\n",
              "         -0.01028056,  0.04658228, -0.01089875, -0.03196225, -0.06916549,\n",
              "          0.13161328,  0.01180367,  0.0333461 ,  0.08787173,  0.13388845,\n",
              "          0.16016905,  0.13461366, -0.02613146,  0.03455959,  0.16996518,\n",
              "         -0.0150386 , -0.02302674,  0.09732804,  0.07087936,  0.02392993,\n",
              "          0.07287284,  0.03087285, -0.06473865,  0.06589089,  0.16088563,\n",
              "          0.10874087, -0.03603154,  0.06741607,  0.13221385,  0.12202912,\n",
              "          0.03752873, -0.0671138 , -0.00270073, -0.01064439,  0.09000792,\n",
              "         -0.03767689,  0.10862155,  0.01116735, -0.0464238 ], dtype=float32)],\n",
              " 'dense_2': [array([[-0.02588238, -0.7235346 ,  0.2808919 , ...,  1.1284746 ,\n",
              "           0.6031894 ,  0.19214188],\n",
              "         [ 0.09658321,  0.20699666,  0.20680809, ..., -0.04779365,\n",
              "           0.00477417, -0.16603994],\n",
              "         [ 0.17930283, -0.5594652 ,  0.1699957 , ...,  0.6451221 ,\n",
              "           0.59338343,  0.3911688 ],\n",
              "         ...,\n",
              "         [-0.14915779,  0.5627964 , -0.40407535, ..., -0.2310893 ,\n",
              "           0.40651724, -0.3449846 ],\n",
              "         [-0.8516882 ,  0.04467186, -0.29517198, ..., -0.27958676,\n",
              "           0.21152341, -0.20251648],\n",
              "         [ 0.20531097, -0.255847  ,  0.04897863, ...,  0.07669801,\n",
              "          -0.0427738 , -0.09490529]], dtype=float32),\n",
              "  array([ 0.16742885,  0.06611656,  0.14666355,  0.18298215,  0.06823022,\n",
              "          0.09469942,  0.09364992,  0.20663624,  0.09560182,  0.16246884,\n",
              "          0.16763954,  0.02772   ,  0.13672821,  0.03363686, -0.02862533,\n",
              "          0.03574142,  0.14283772, -0.01165452,  0.19911641,  0.11331351,\n",
              "         -0.08346735,  0.06018492,  0.17947152,  0.10374702,  0.09998861,\n",
              "         -0.03704564,  0.00662838,  0.11614775,  0.12734173,  0.1164613 ,\n",
              "          0.15406872, -0.02831385], dtype=float32)],\n",
              " 'dense_3': [array([[-0.6698284 ,  0.18367465,  0.28242996,  0.11056718,  0.11794937,\n",
              "          -0.22013243, -0.4615827 , -0.68292296,  0.5111438 , -0.15055749],\n",
              "         [ 0.7643381 ,  0.1523184 , -0.18465234,  0.55534625, -1.1253384 ,\n",
              "          -0.17184046, -0.6086248 , -0.09729375,  0.47547922, -0.7895733 ],\n",
              "         [ 0.15011463, -0.27905753, -0.7458723 , -0.48894522, -0.42734388,\n",
              "          -1.223729  ,  0.572688  , -0.18299703,  0.5561983 ,  0.18533012],\n",
              "         [-0.7949602 , -0.49768803, -1.2175372 , -0.04964356,  0.16658379,\n",
              "           0.2924951 ,  0.3531029 ,  0.16294725,  0.39885166,  0.22595552],\n",
              "         [ 0.38544828,  0.92872405,  0.09765947, -1.1965002 ,  0.4397938 ,\n",
              "          -0.39932457,  0.00751921,  0.5993587 , -0.7377685 ,  0.09016231],\n",
              "         [ 0.10884853,  0.66867065,  0.4534744 , -0.072294  , -0.80020523,\n",
              "          -0.76678467, -0.64889926,  0.8488852 ,  0.6272615 , -0.8454132 ],\n",
              "         [ 0.45076782,  0.5833741 , -1.4178182 , -1.3973883 ,  0.7006738 ,\n",
              "          -1.5090389 , -0.99066436, -0.3905828 , -0.8710198 ,  0.4285377 ],\n",
              "         [-0.7135593 , -0.24988438, -0.62802464,  0.63791233, -0.8975006 ,\n",
              "           0.38385066, -0.6310746 , -0.90187496,  0.52434427,  0.6037987 ],\n",
              "         [ 0.6647255 ,  0.76491505, -0.8532707 , -0.20124087, -1.3504517 ,\n",
              "           0.45353016,  0.17505741,  0.6132759 , -0.75753975, -0.73666614],\n",
              "         [ 0.08273041, -1.0594006 ,  0.1454817 ,  0.50310737, -0.5576431 ,\n",
              "          -0.10052828, -1.107882  ,  0.41190422,  0.18553078,  0.5159477 ],\n",
              "         [-0.87074035,  0.29146242,  0.46854025, -0.86346155,  0.51185215,\n",
              "          -0.14057301,  0.08220666, -0.2076937 ,  0.6643344 , -0.08066786],\n",
              "         [ 0.3332118 ,  0.5000601 ,  0.73379505, -0.8466868 , -0.2273999 ,\n",
              "           0.19312115, -0.7489146 ,  0.71841204, -0.635759  , -0.23905912],\n",
              "         [-0.153957  ,  0.4504977 , -0.5413326 ,  0.52979904,  0.3730579 ,\n",
              "          -0.06269557, -1.5915732 ,  0.63924825, -0.41811234,  0.36090863],\n",
              "         [ 0.06222172, -0.3282678 , -0.4353959 , -0.9450337 ,  0.6354431 ,\n",
              "          -0.7812155 ,  0.16114195,  0.16150649, -0.03305995,  0.15226938],\n",
              "         [-0.24829471, -0.02792671,  0.44342   ,  0.38638258, -0.45354292,\n",
              "          -1.0891002 ,  0.38533244,  0.4474467 , -0.724779  , -0.2821628 ],\n",
              "         [-0.60001755,  0.53132725,  0.24175428, -0.0502245 ,  0.63022053,\n",
              "           0.44418347,  0.65015495, -0.03058851, -0.3943186 , -1.5044953 ],\n",
              "         [-0.2640321 , -0.633114  , -0.21456817,  0.2711768 , -0.22128093,\n",
              "           0.5274112 , -1.0139922 ,  0.6165145 , -1.0109681 ,  0.75283843],\n",
              "         [-1.2870967 ,  0.62555176,  0.61554694,  0.62783897,  0.22392501,\n",
              "          -0.0307594 , -0.60981953,  0.30267394, -0.9693836 , -0.96586853],\n",
              "         [-1.1329855 ,  0.46518365, -0.519214  ,  0.5217782 ,  0.54690737,\n",
              "          -0.06245182,  0.01271199, -0.7112117 , -0.04533701,  0.19625692],\n",
              "         [-0.14434317, -0.3474758 ,  0.1644391 ,  0.28961447, -0.79125255,\n",
              "          -0.5671529 ,  0.53197235, -0.48809767,  0.51765585, -0.65906554],\n",
              "         [ 0.6686519 , -1.2943645 ,  0.01616664, -0.3133993 ,  0.06652585,\n",
              "          -1.0969886 ,  0.5762466 ,  0.37076235, -0.9272893 ,  0.04960437],\n",
              "         [ 0.50731045, -0.437273  ,  0.328773  , -0.32390982, -0.3707578 ,\n",
              "           0.5725661 , -0.44569287, -0.65777016, -0.16590677,  0.02555933],\n",
              "         [ 0.18405445, -0.24647783, -0.01708434, -0.1980483 , -1.4048705 ,\n",
              "           0.39441225,  0.31633544, -0.38079253,  0.1617228 , -0.5283384 ],\n",
              "         [ 0.024386  , -0.49628043, -0.40470868, -0.20707521,  0.2828867 ,\n",
              "           0.5771273 ,  0.6690775 , -1.1229763 ,  0.37742162,  0.11867807],\n",
              "         [-0.9642376 ,  0.11064241, -0.30702925, -0.7711544 , -0.7938706 ,\n",
              "           0.7151578 , -0.15698384,  0.14257145,  0.36140302, -0.12792122],\n",
              "         [ 0.39103037,  0.17839861,  0.10691028,  0.4066519 ,  0.36314505,\n",
              "          -0.22127594,  0.17363825, -0.22044119, -0.2729201 , -0.5146185 ],\n",
              "         [-0.24825309,  0.04612875,  0.46261597, -0.34181467,  0.15855902,\n",
              "           0.20633796, -0.19852628, -1.240605  ,  0.17243457, -0.18303509],\n",
              "         [-0.5857896 , -0.37708423,  0.68553495,  0.4465391 , -0.31454644,\n",
              "          -1.0778018 , -1.1420197 ,  0.26766324,  0.46412328,  0.47339875],\n",
              "         [-0.49190122,  0.42624077,  0.11977323,  0.3389705 , -0.50042284,\n",
              "           0.65752894,  0.27170527, -1.0235676 , -0.30232543, -0.2158856 ],\n",
              "         [ 0.6593247 , -0.86612636,  0.22104988, -0.3976206 ,  0.2691977 ,\n",
              "           0.3766339 ,  0.49143997, -0.82091737,  0.16805473,  0.03993125],\n",
              "         [ 0.15630163, -1.1167299 , -0.29926246, -0.9345811 ,  0.35044494,\n",
              "           0.6302917 , -0.36905798, -0.71179444, -0.28870052,  0.78081495],\n",
              "         [ 0.5493181 , -1.0300628 ,  0.12481662, -0.58299047,  0.5143396 ,\n",
              "          -0.8923229 ,  0.54988706,  0.6167271 , -0.21150422, -0.33929136]],\n",
              "        dtype=float32),\n",
              "  array([-0.08616537,  0.15214366, -0.15374464, -0.09114806, -0.1271662 ,\n",
              "          0.08689772, -0.03179592, -0.05595173,  0.07880218,  0.1452182 ],\n",
              "        dtype=float32)]}"
            ]
          },
          "metadata": {},
          "execution_count": 12
        }
      ]
    },
    {
      "cell_type": "code",
      "source": [
        "weights1, biases1 = model.layers[1].get_weights()\n",
        "print(weights1)"
      ],
      "metadata": {
        "colab": {
          "base_uri": "https://localhost:8080/"
        },
        "id": "p67v8xTZkXtA",
        "outputId": "91b48e71-1cbe-4167-84b3-04021ef59b1b"
      },
      "execution_count": 13,
      "outputs": [
        {
          "output_type": "stream",
          "name": "stdout",
          "text": [
            "[[-0.06592654  0.04074224 -0.05315985 ...  0.02438848  0.05775695\n",
            "   0.02308185]\n",
            " [ 0.05961669  0.01101388  0.00697708 ...  0.02767555 -0.0364953\n",
            "  -0.02418983]\n",
            " [ 0.06003071  0.00518056 -0.07527402 ... -0.03776128 -0.06572257\n",
            "  -0.00571021]\n",
            " ...\n",
            " [-0.03394078 -0.0606411   0.00136901 ...  0.04795616 -0.05914774\n",
            "  -0.02391958]\n",
            " [ 0.01358866  0.06621099  0.05034674 ...  0.00669714  0.03243068\n",
            "  -0.0596912 ]\n",
            " [ 0.02600241 -0.07141006  0.07120457 ... -0.01788738 -0.03352116\n",
            "  -0.00718947]]\n"
          ]
        }
      ]
    },
    {
      "cell_type": "code",
      "source": [
        "# cannot easily visualize filters lower down\n",
        "from matplotlib import pyplot\n",
        "# normalize weights values to 0-1 so we can visualize them\n",
        "f_min, f_max = weights1.min(), weights1.max()\n",
        "weights1 = (weights1 - f_min) / (f_max - f_min)\n",
        "print(weights1)"
      ],
      "metadata": {
        "colab": {
          "base_uri": "https://localhost:8080/"
        },
        "id": "tQC7P7JpDtw6",
        "outputId": "6e80972b-1b29-46a3-9889-8a8128b65b03"
      },
      "execution_count": 14,
      "outputs": [
        {
          "output_type": "stream",
          "name": "stdout",
          "text": [
            "[[0.6504877  0.6796634  0.6539796  ... 0.67519045 0.6843173  0.674833  ]\n",
            " [0.684826   0.6715323  0.6704281  ... 0.6760895  0.6585377  0.6619034 ]\n",
            " [0.6849392  0.6699367  0.64793104 ... 0.65819144 0.6505435  0.666958  ]\n",
            " ...\n",
            " [0.6592364  0.6519334  0.66889423 ... 0.68163663 0.6523418  0.66197735]\n",
            " [0.6722365  0.6866296  0.6822905  ... 0.67035156 0.6773901  0.6521932 ]\n",
            " [0.6756319  0.6489878  0.6879955  ... 0.66362727 0.65935117 0.6665533 ]]\n"
          ]
        }
      ]
    },
    {
      "cell_type": "code",
      "source": [
        "# Get the weights from the first Hidden layer\n",
        "print(weights1.shape)\n",
        "# Get the weights from the second Hidden layer\n",
        "weights2, biases2 = model.layers[2].get_weights()\n",
        "print(weights2.shape)\n",
        "# Get the weights from the third Hidden layer\n",
        "weights3, biases3 = model.layers[3].get_weights()\n",
        "print(weights3.shape)"
      ],
      "metadata": {
        "colab": {
          "base_uri": "https://localhost:8080/"
        },
        "id": "ReVfIObmNkPH",
        "outputId": "123dd0a3-5674-4bfd-c8ad-527ad3247063"
      },
      "execution_count": 15,
      "outputs": [
        {
          "output_type": "stream",
          "name": "stdout",
          "text": [
            "(784, 128)\n",
            "(128, 64)\n",
            "(64, 32)\n"
          ]
        }
      ]
    },
    {
      "cell_type": "code",
      "source": [
        "# normalize weights values to 0-1 so we can visualize them\n",
        "f_min, f_max = weights3.min(), weights3.max()\n",
        "weights3 = (weights3 - f_min) / (f_max - f_min)\n",
        "\n",
        "# Check if the shape is compatible for reshaping\n",
        "if weights3.shape != (8 * 8, 32):\n",
        "    print(\"The shape of the weights array is not compatible for reshaping.\")\n",
        "\n",
        "# Reshape weights into  images of 8 by 8\n",
        "weights3_images = weights3.reshape(-1, 8, 8)\n",
        "\n",
        "# Plot the weights\n",
        "fig, axes = plt.subplots(4, 8)\n",
        "for i, ax in enumerate(axes.flat):\n",
        "#    ax.matshow(weights3_images[i], cmap='viridis')\n",
        "    ax.matshow(weights3_images[i], cmap=plt.cm.gray, vmin=f_min, vmax=f_max)\n",
        "    ax.axis('off')\n",
        "\n",
        "plt.show()"
      ],
      "metadata": {
        "colab": {
          "base_uri": "https://localhost:8080/",
          "height": 379
        },
        "id": "k_DVuVUK0ubJ",
        "outputId": "a2ef6f8d-eca4-4f14-d64e-aa58c76be8e0"
      },
      "execution_count": 17,
      "outputs": [
        {
          "output_type": "display_data",
          "data": {
            "text/plain": [
              "<Figure size 640x480 with 32 Axes>"
            ],
            "image/png": "[encoded data removed]"
          },
          "metadata": {}
        }
      ]
    },
    {
      "cell_type": "markdown",
      "source": [
        "***... now you have to put your 10 digit images in content folder...***\n",
        "these images have to be labelled digit_x.png, in an 28x28 resolution"
      ],
      "metadata": {
        "id": "_s5Er1KcnBh0"
      }
    },
    {
      "cell_type": "code",
      "source": [
        "import cv2"
      ],
      "metadata": {
        "id": "mY8gVkDbWt9x"
      },
      "execution_count": 18,
      "outputs": []
    },
    {
      "cell_type": "code",
      "source": [
        "image = cv2.imread('digit_3.png')[:,:,0]\n",
        "image = np.invert(np.array([image]))"
      ],
      "metadata": {
        "id": "NIQqjpsTX79E"
      },
      "execution_count": 19,
      "outputs": []
    },
    {
      "cell_type": "code",
      "source": [
        "output = model.predict(image)\n",
        "plt.imshow(image[0])\n",
        "print(np.argmax(output))"
      ],
      "metadata": {
        "colab": {
          "base_uri": "https://localhost:8080/",
          "height": 466
        },
        "id": "vQqIwlTaZSny",
        "outputId": "c2c4f163-37c9-4e53-927d-e44513429887"
      },
      "execution_count": 20,
      "outputs": [
        {
          "output_type": "stream",
          "name": "stdout",
          "text": [
            "1/1 [==============================] - 0s 110ms/step\n",
            "3\n"
          ]
        },
        {
          "output_type": "display_data",
          "data": {
            "text/plain": [
              "<Figure size 640x480 with 1 Axes>"
            ],
            "image/png": "[encoded data removed]"
          },
          "metadata": {}
        }
      ]
    },
    {
      "cell_type": "code",
      "source": [
        "model.save('/content/hand_written_Digit_recog_model.keras')"
      ],
      "metadata": {
        "id": "1wzUfiKhZ2gO"
      },
      "execution_count": 21,
      "outputs": []
    },
    {
      "cell_type": "code",
      "source": [
        "!pip install streamlit"
      ],
      "metadata": {
        "colab": {
          "base_uri": "https://localhost:8080/"
        },
        "id": "ZizRHYiCbXgP",
        "outputId": "d7979935-97cc-4f12-cda5-21098c4af62b"
      },
      "execution_count": 22,
      "outputs": [
        {
          "output_type": "stream",
          "name": "stdout",
          "text": [
            "Collecting streamlit\n",
            "  Downloading streamlit-1.32.2-py2.py3-none-any.whl (8.1 MB)\n",
            "\u001b[2K     \u001b[90m━━━━━━━━━━━━━━━━━━━━━━━━━━━━━━━━━━━━━━━━\u001b[0m \u001b[32m8.1/8.1 MB\u001b[0m \u001b[31m15.7 MB/s\u001b[0m eta \u001b[36m0:00:00\u001b[0m\n",
            "\u001b[?25hRequirement already satisfied: altair<6,>=4.0 in /usr/local/lib/python3.10/dist-packages (from streamlit) (4.2.2)\n",
            "Requirement already satisfied: blinker<2,>=1.0.0 in /usr/lib/python3/dist-packages (from streamlit) (1.4)\n",
            "Requirement already satisfied: cachetools<6,>=4.0 in /usr/local/lib/python3.10/dist-packages (from streamlit) (5.3.3)\n",
            "Requirement already satisfied: click<9,>=7.0 in /usr/local/lib/python3.10/dist-packages (from streamlit) (8.1.7)\n",
            "Requirement already satisfied: numpy<2,>=1.19.3 in /usr/local/lib/python3.10/dist-packages (from streamlit) (1.25.2)\n",
            "Collecting packaging<24,>=16.8 (from streamlit)\n",
            "  Downloading packaging-23.2-py3-none-any.whl (53 kB)\n",
            "\u001b[2K     \u001b[90m━━━━━━━━━━━━━━━━━━━━━━━━━━━━━━━━━━━━━━━━\u001b[0m \u001b[32m53.0/53.0 kB\u001b[0m \u001b[31m5.7 MB/s\u001b[0m eta \u001b[36m0:00:00\u001b[0m\n",
            "\u001b[?25hRequirement already satisfied: pandas<3,>=1.3.0 in /usr/local/lib/python3.10/dist-packages (from streamlit) (2.0.3)\n",
            "Requirement already satisfied: pillow<11,>=7.1.0 in /usr/local/lib/python3.10/dist-packages (from streamlit) (9.4.0)\n",
            "Requirement already satisfied: protobuf<5,>=3.20 in /usr/local/lib/python3.10/dist-packages (from streamlit) (3.20.3)\n",
            "Requirement already satisfied: pyarrow>=7.0 in /usr/local/lib/python3.10/dist-packages (from streamlit) (14.0.2)\n",
            "Requirement already satisfied: requests<3,>=2.27 in /usr/local/lib/python3.10/dist-packages (from streamlit) (2.31.0)\n",
            "Requirement already satisfied: rich<14,>=10.14.0 in /usr/local/lib/python3.10/dist-packages (from streamlit) (13.7.1)\n",
            "Requirement already satisfied: tenacity<9,>=8.1.0 in /usr/local/lib/python3.10/dist-packages (from streamlit) (8.2.3)\n",
            "Requirement already satisfied: toml<2,>=0.10.1 in /usr/local/lib/python3.10/dist-packages (from streamlit) (0.10.2)\n",
            "Requirement already satisfied: typing-extensions<5,>=4.3.0 in /usr/local/lib/python3.10/dist-packages (from streamlit) (4.10.0)\n",
            "Collecting gitpython!=3.1.19,<4,>=3.0.7 (from streamlit)\n",
            "  Downloading GitPython-3.1.43-py3-none-any.whl (207 kB)\n",
            "\u001b[2K     \u001b[90m━━━━━━━━━━━━━━━━━━━━━━━━━━━━━━━━━━━━━━━━\u001b[0m \u001b[32m207.3/207.3 kB\u001b[0m \u001b[31m19.3 MB/s\u001b[0m eta \u001b[36m0:00:00\u001b[0m\n",
            "\u001b[?25hCollecting pydeck<1,>=0.8.0b4 (from streamlit)\n",
            "  Downloading pydeck-0.8.1b0-py2.py3-none-any.whl (4.8 MB)\n",
            "\u001b[2K     \u001b[90m━━━━━━━━━━━━━━━━━━━━━━━━━━━━━━━━━━━━━━━━\u001b[0m \u001b[32m4.8/4.8 MB\u001b[0m \u001b[31m32.3 MB/s\u001b[0m eta \u001b[36m0:00:00\u001b[0m\n",
            "\u001b[?25hRequirement already satisfied: tornado<7,>=6.0.3 in /usr/local/lib/python3.10/dist-packages (from streamlit) (6.3.3)\n",
            "Collecting watchdog>=2.1.5 (from streamlit)\n",
            "  Downloading watchdog-4.0.0-py3-none-manylinux2014_x86_64.whl (82 kB)\n",
            "\u001b[2K     \u001b[90m━━━━━━━━━━━━━━━━━━━━━━━━━━━━━━━━━━━━━━━━\u001b[0m \u001b[32m83.0/83.0 kB\u001b[0m \u001b[31m7.8 MB/s\u001b[0m eta \u001b[36m0:00:00\u001b[0m\n",
            "\u001b[?25hRequirement already satisfied: entrypoints in /usr/local/lib/python3.10/dist-packages (from altair<6,>=4.0->streamlit) (0.4)\n",
            "Requirement already satisfied: jinja2 in /usr/local/lib/python3.10/dist-packages (from altair<6,>=4.0->streamlit) (3.1.3)\n",
            "Requirement already satisfied: jsonschema>=3.0 in /usr/local/lib/python3.10/dist-packages (from altair<6,>=4.0->streamlit) (4.19.2)\n",
            "Requirement already satisfied: toolz in /usr/local/lib/python3.10/dist-packages (from altair<6,>=4.0->streamlit) (0.12.1)\n",
            "Collecting gitdb<5,>=4.0.1 (from gitpython!=3.1.19,<4,>=3.0.7->streamlit)\n",
            "  Downloading gitdb-4.0.11-py3-none-any.whl (62 kB)\n",
            "\u001b[2K     \u001b[90m━━━━━━━━━━━━━━━━━━━━━━━━━━━━━━━━━━━━━━━━\u001b[0m \u001b[32m62.7/62.7 kB\u001b[0m \u001b[31m7.4 MB/s\u001b[0m eta \u001b[36m0:00:00\u001b[0m\n",
            "\u001b[?25hRequirement already satisfied: python-dateutil>=2.8.2 in /usr/local/lib/python3.10/dist-packages (from pandas<3,>=1.3.0->streamlit) (2.8.2)\n",
            "Requirement already satisfied: pytz>=2020.1 in /usr/local/lib/python3.10/dist-packages (from pandas<3,>=1.3.0->streamlit) (2023.4)\n",
            "Requirement already satisfied: tzdata>=2022.1 in /usr/local/lib/python3.10/dist-packages (from pandas<3,>=1.3.0->streamlit) (2024.1)\n",
            "Requirement already satisfied: charset-normalizer<4,>=2 in /usr/local/lib/python3.10/dist-packages (from requests<3,>=2.27->streamlit) (3.3.2)\n",
            "Requirement already satisfied: idna<4,>=2.5 in /usr/local/lib/python3.10/dist-packages (from requests<3,>=2.27->streamlit) (3.6)\n",
            "Requirement already satisfied: urllib3<3,>=1.21.1 in /usr/local/lib/python3.10/dist-packages (from requests<3,>=2.27->streamlit) (2.0.7)\n",
            "Requirement already satisfied: certifi>=2017.4.17 in /usr/local/lib/python3.10/dist-packages (from requests<3,>=2.27->streamlit) (2024.2.2)\n",
            "Requirement already satisfied: markdown-it-py>=2.2.0 in /usr/local/lib/python3.10/dist-packages (from rich<14,>=10.14.0->streamlit) (3.0.0)\n",
            "Requirement already satisfied: pygments<3.0.0,>=2.13.0 in /usr/local/lib/python3.10/dist-packages (from rich<14,>=10.14.0->streamlit) (2.16.1)\n",
            "Collecting smmap<6,>=3.0.1 (from gitdb<5,>=4.0.1->gitpython!=3.1.19,<4,>=3.0.7->streamlit)\n",
            "  Downloading smmap-5.0.1-py3-none-any.whl (24 kB)\n",
            "Requirement already satisfied: MarkupSafe>=2.0 in /usr/local/lib/python3.10/dist-packages (from jinja2->altair<6,>=4.0->streamlit) (2.1.5)\n",
            "Requirement already satisfied: attrs>=22.2.0 in /usr/local/lib/python3.10/dist-packages (from jsonschema>=3.0->altair<6,>=4.0->streamlit) (23.2.0)\n",
            "Requirement already satisfied: jsonschema-specifications>=2023.03.6 in /usr/local/lib/python3.10/dist-packages (from jsonschema>=3.0->altair<6,>=4.0->streamlit) (2023.12.1)\n",
            "Requirement already satisfied: referencing>=0.28.4 in /usr/local/lib/python3.10/dist-packages (from jsonschema>=3.0->altair<6,>=4.0->streamlit) (0.34.0)\n",
            "Requirement already satisfied: rpds-py>=0.7.1 in /usr/local/lib/python3.10/dist-packages (from jsonschema>=3.0->altair<6,>=4.0->streamlit) (0.18.0)\n",
            "Requirement already satisfied: mdurl~=0.1 in /usr/local/lib/python3.10/dist-packages (from markdown-it-py>=2.2.0->rich<14,>=10.14.0->streamlit) (0.1.2)\n",
            "Requirement already satisfied: six>=1.5 in /usr/local/lib/python3.10/dist-packages (from python-dateutil>=2.8.2->pandas<3,>=1.3.0->streamlit) (1.16.0)\n",
            "Installing collected packages: watchdog, smmap, packaging, pydeck, gitdb, gitpython, streamlit\n",
            "  Attempting uninstall: packaging\n",
            "    Found existing installation: packaging 24.0\n",
            "    Uninstalling packaging-24.0:\n",
            "      Successfully uninstalled packaging-24.0\n",
            "Successfully installed gitdb-4.0.11 gitpython-3.1.43 packaging-23.2 pydeck-0.8.1b0 smmap-5.0.1 streamlit-1.32.2 watchdog-4.0.0\n"
          ]
        }
      ]
    },
    {
      "cell_type": "code",
      "source": [
        "!npm install localtunnel"
      ],
      "metadata": {
        "colab": {
          "base_uri": "https://localhost:8080/"
        },
        "id": "zsLuDRWxZ6Km",
        "outputId": "2eeb1278-4b19-4273-d128-f3d453485626"
      },
      "execution_count": 23,
      "outputs": [
        {
          "output_type": "stream",
          "name": "stdout",
          "text": [
            "\u001b[K\u001b[?25h\u001b[37;40mnpm\u001b[0m \u001b[0m\u001b[30;43mWARN\u001b[0m \u001b[0m\u001b[35msaveError\u001b[0m ENOENT: no such file or directory, open '/content/package.json'\n",
            "\u001b[K\u001b[?25h\u001b[37;40mnpm\u001b[0m \u001b[0m\u001b[34;40mnotice\u001b[0m\u001b[35m\u001b[0m created a lockfile as package-lock.json. You should commit this file.\n",
            "\u001b[0m\u001b[37;40mnpm\u001b[0m \u001b[0m\u001b[30;43mWARN\u001b[0m \u001b[0m\u001b[35menoent\u001b[0m ENOENT: no such file or directory, open '/content/package.json'\n",
            "\u001b[0m\u001b[37;40mnpm\u001b[0m \u001b[0m\u001b[30;43mWARN\u001b[0m\u001b[35m\u001b[0m content No description\n",
            "\u001b[0m\u001b[37;40mnpm\u001b[0m \u001b[0m\u001b[30;43mWARN\u001b[0m\u001b[35m\u001b[0m content No repository field.\n",
            "\u001b[0m\u001b[37;40mnpm\u001b[0m \u001b[0m\u001b[30;43mWARN\u001b[0m\u001b[35m\u001b[0m content No README data\n",
            "\u001b[0m\u001b[37;40mnpm\u001b[0m \u001b[0m\u001b[30;43mWARN\u001b[0m\u001b[35m\u001b[0m content No license field.\n",
            "\u001b[0m\n",
            "+ localtunnel@2.0.2\n",
            "added 22 packages from 22 contributors and audited 22 packages in 2.396s\n",
            "\n",
            "3 packages are looking for funding\n",
            "  run `npm fund` for details\n",
            "\n",
            "found 1 \u001b[93mmoderate\u001b[0m severity vulnerability\n",
            "  run `npm audit fix` to fix them, or `npm audit` for details\n",
            "\u001b[K\u001b[?25h"
          ]
        }
      ]
    },
    {
      "cell_type": "code",
      "source": [
        "!streamlit run /content/julien_web_app.py &> /content/logs.txt &"
      ],
      "metadata": {
        "id": "8DZcJzv0aJhX"
      },
      "execution_count": 24,
      "outputs": []
    },
    {
      "cell_type": "code",
      "source": [
        "!npx localtunnel --port 8501"
      ],
      "metadata": {
        "colab": {
          "base_uri": "https://localhost:8080/"
        },
        "id": "ZtuiqVfvaMZt",
        "outputId": "5ca8d826-4148-448a-e352-2cf0b04c2836"
      },
      "execution_count": 25,
      "outputs": [
        {
          "output_type": "stream",
          "name": "stdout",
          "text": [
            "\u001b[K\u001b[?25hnpx: installed 22 in 2.19s\n",
            "your url is: https://flat-pots-try.loca.lt\n",
            "^C\n"
          ]
        }
      ]
    }
  ]
}