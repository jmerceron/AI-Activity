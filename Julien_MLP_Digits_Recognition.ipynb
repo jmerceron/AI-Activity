{
  "nbformat": 4,
  "nbformat_minor": 0,
  "metadata": {
    "colab": {
      "provenance": [],
      "authorship_tag": "ABX9TyOayi/eO4dQFbOq3saSrhn5",
      "include_colab_link": true
    },
    "kernelspec": {
      "name": "python3",
      "display_name": "Python 3"
    },
    "language_info": {
      "name": "python"
    }
  },
  "cells": [
    {
      "cell_type": "markdown",
      "metadata": {
        "id": "view-in-github",
        "colab_type": "text"
      },
      "source": [
        "<a href=\"https://colab.research.google.com/github/jmerceron/AI-Activity/blob/main/Julien_MLP_Digits_Recognition.ipynb\" target=\"_parent\"><img src=\"https://colab.research.google.com/assets/colab-badge.svg\" alt=\"Open In Colab\"/></a>"
      ]
    },
    {
      "cell_type": "code",
      "execution_count": 2,
      "metadata": {
        "id": "nosdqwpjT36j"
      },
      "outputs": [],
      "source": [
        "import numpy as np\n",
        "import matplotlib.pyplot as plt\n",
        "import tensorflow as tf\n",
        "\n",
        "from tensorflow.keras.utils import plot_model"
      ]
    },
    {
      "cell_type": "code",
      "source": [
        "mnist = tf.keras.datasets.mnist"
      ],
      "metadata": {
        "id": "4VGDqK8aUjtZ"
      },
      "execution_count": 3,
      "outputs": []
    },
    {
      "cell_type": "code",
      "source": [
        "(x_train, y_train),(x_test, y_test) = mnist.load_data()"
      ],
      "metadata": {
        "id": "9oFlBIxdUoNW",
        "colab": {
          "base_uri": "https://localhost:8080/"
        },
        "outputId": "760f07bf-abf3-44dc-91e6-a10e8373499c"
      },
      "execution_count": 4,
      "outputs": [
        {
          "output_type": "stream",
          "name": "stdout",
          "text": [
            "Downloading data from https://storage.googleapis.com/tensorflow/tf-keras-datasets/mnist.npz\n",
            "11490434/11490434 [==============================] - 0s 0us/step\n"
          ]
        }
      ]
    },
    {
      "cell_type": "code",
      "source": [
        "print(x_train.shape, y_train.shape, x_test.shape, y_test.shape)"
      ],
      "metadata": {
        "colab": {
          "base_uri": "https://localhost:8080/"
        },
        "id": "7SFDBqvxUyC4",
        "outputId": "4784f55a-ac2c-4753-b07a-6238a2821aaa"
      },
      "execution_count": 5,
      "outputs": [
        {
          "output_type": "stream",
          "name": "stdout",
          "text": [
            "(60000, 28, 28) (60000,) (10000, 28, 28) (10000,)\n"
          ]
        }
      ]
    },
    {
      "cell_type": "code",
      "source": [
        "plt.figure(figsize=(8,8))\n",
        "for i in range(9):\n",
        "  plt.subplot(3,3,i+1)\n",
        "  plt.imshow(x_train[i])\n",
        "  plt.title(y_train[i])\n",
        "  plt.axis('off')"
      ],
      "metadata": {
        "colab": {
          "base_uri": "https://localhost:8080/",
          "height": 675
        },
        "id": "lAUW-8WJU3Ez",
        "outputId": "8bc05797-4cc6-4630-ccf0-7d374720b249"
      },
      "execution_count": 6,
      "outputs": [
        {
          "output_type": "display_data",
          "data": {
            "text/plain": [
              "<Figure size 800x800 with 9 Axes>"
            ],
            "image/png": "[encoded data removed]"
          },
          "metadata": {}
        }
      ]
    },
    {
      "cell_type": "code",
      "source": [
        "x_train = tf.keras.utils.normalize(x_train, axis =0)\n",
        "x_test = tf.keras.utils.normalize(x_test, axis =0)"
      ],
      "metadata": {
        "id": "1NUu5MneVH4R"
      },
      "execution_count": 7,
      "outputs": []
    },
    {
      "cell_type": "code",
      "source": [
        "model = tf.keras.models.Sequential()\n",
        "model.add(tf.keras.layers.Flatten(input_shape = (28,28)))\n",
        "model.add(tf.keras.layers.Dense(16, activation = 'relu'))\n",
        "model.add(tf.keras.layers.Dense(16, activation = 'relu'))\n",
        "model.add(tf.keras.layers.Dense(10, activation='softmax'))"
      ],
      "metadata": {
        "id": "rig6HmUpVLir"
      },
      "execution_count": 8,
      "outputs": []
    },
    {
      "cell_type": "code",
      "source": [
        "model.summary()"
      ],
      "metadata": {
        "colab": {
          "base_uri": "https://localhost:8080/"
        },
        "id": "otx_9TwAVS10",
        "outputId": "096892e1-f007-4141-f417-a6b810fe0642"
      },
      "execution_count": 9,
      "outputs": [
        {
          "output_type": "stream",
          "name": "stdout",
          "text": [
            "Model: \"sequential\"\n",
            "_________________________________________________________________\n",
            " Layer (type)                Output Shape              Param #   \n",
            "=================================================================\n",
            " flatten (Flatten)           (None, 784)               0         \n",
            "                                                                 \n",
            " dense (Dense)               (None, 16)                12560     \n",
            "                                                                 \n",
            " dense_1 (Dense)             (None, 16)                272       \n",
            "                                                                 \n",
            " dense_2 (Dense)             (None, 10)                170       \n",
            "                                                                 \n",
            "=================================================================\n",
            "Total params: 13002 (50.79 KB)\n",
            "Trainable params: 13002 (50.79 KB)\n",
            "Non-trainable params: 0 (0.00 Byte)\n",
            "_________________________________________________________________\n"
          ]
        }
      ]
    },
    {
      "cell_type": "code",
      "source": [
        "plot_model(model, to_file='model_plot.png', show_shapes=True, show_layer_names=True)"
      ],
      "metadata": {
        "colab": {
          "base_uri": "https://localhost:8080/",
          "height": 533
        },
        "id": "Ic8MUGncBeie",
        "outputId": "5d3e13a8-b607-4985-9599-67a68190e83d"
      },
      "execution_count": 10,
      "outputs": [
        {
          "output_type": "execute_result",
          "data": {
            "image/png": "[encoded data removed]",
            "text/plain": [
              "<IPython.core.display.Image object>"
            ]
          },
          "metadata": {},
          "execution_count": 10
        }
      ]
    },
    {
      "cell_type": "code",
      "source": [
        "model.compile(optimizer = 'adam', loss = tf.keras.losses.SparseCategoricalCrossentropy(from_logits=True), metrics =['accuracy'])"
      ],
      "metadata": {
        "id": "0OiRxucHVhlZ"
      },
      "execution_count": 11,
      "outputs": []
    },
    {
      "cell_type": "code",
      "source": [
        "model.fit(x_train, y_train, validation_data=(x_test, y_test), batch_size=32, epochs = 15)"
      ],
      "metadata": {
        "colab": {
          "base_uri": "https://localhost:8080/"
        },
        "id": "v43D5-brWGMI",
        "outputId": "019b3769-f88e-4ca9-ac9f-ff0f9f101bb5"
      },
      "execution_count": 12,
      "outputs": [
        {
          "output_type": "stream",
          "name": "stdout",
          "text": [
            "Epoch 1/15\n"
          ]
        },
        {
          "output_type": "stream",
          "name": "stderr",
          "text": [
            "/usr/local/lib/python3.10/dist-packages/keras/src/backend.py:5727: UserWarning: \"`sparse_categorical_crossentropy` received `from_logits=True`, but the `output` argument was produced by a Softmax activation and thus does not represent logits. Was this intended?\n",
            "  output, from_logits = _get_logits(\n"
          ]
        },
        {
          "output_type": "stream",
          "name": "stdout",
          "text": [
            "1875/1875 [==============================] - 8s 4ms/step - loss: 1.1994 - accuracy: 0.6166 - val_loss: 0.7337 - val_accuracy: 0.8057\n",
            "Epoch 2/15\n",
            "1875/1875 [==============================] - 5s 3ms/step - loss: 0.5234 - accuracy: 0.8453 - val_loss: 0.6077 - val_accuracy: 0.8574\n",
            "Epoch 3/15\n",
            "1875/1875 [==============================] - 6s 3ms/step - loss: 0.4234 - accuracy: 0.8781 - val_loss: 0.5555 - val_accuracy: 0.8790\n",
            "Epoch 4/15\n",
            "1875/1875 [==============================] - 5s 2ms/step - loss: 0.3784 - accuracy: 0.8921 - val_loss: 0.5311 - val_accuracy: 0.8851\n",
            "Epoch 5/15\n",
            "1875/1875 [==============================] - 6s 3ms/step - loss: 0.3462 - accuracy: 0.9018 - val_loss: 0.5198 - val_accuracy: 0.8950\n",
            "Epoch 6/15\n",
            "1875/1875 [==============================] - 5s 3ms/step - loss: 0.3205 - accuracy: 0.9080 - val_loss: 0.5106 - val_accuracy: 0.9010\n",
            "Epoch 7/15\n",
            "1875/1875 [==============================] - 6s 3ms/step - loss: 0.3017 - accuracy: 0.9140 - val_loss: 0.5102 - val_accuracy: 0.9015\n",
            "Epoch 8/15\n",
            "1875/1875 [==============================] - 6s 3ms/step - loss: 0.2858 - accuracy: 0.9179 - val_loss: 0.4693 - val_accuracy: 0.9108\n",
            "Epoch 9/15\n",
            "1875/1875 [==============================] - 5s 3ms/step - loss: 0.2724 - accuracy: 0.9217 - val_loss: 0.4711 - val_accuracy: 0.9097\n",
            "Epoch 10/15\n",
            "1875/1875 [==============================] - 8s 4ms/step - loss: 0.2617 - accuracy: 0.9251 - val_loss: 0.4644 - val_accuracy: 0.9122\n",
            "Epoch 11/15\n",
            "1875/1875 [==============================] - 5s 3ms/step - loss: 0.2523 - accuracy: 0.9283 - val_loss: 0.4472 - val_accuracy: 0.9159\n",
            "Epoch 12/15\n",
            "1875/1875 [==============================] - 6s 3ms/step - loss: 0.2436 - accuracy: 0.9303 - val_loss: 0.4290 - val_accuracy: 0.9167\n",
            "Epoch 13/15\n",
            "1875/1875 [==============================] - 5s 3ms/step - loss: 0.2352 - accuracy: 0.9328 - val_loss: 0.4424 - val_accuracy: 0.9171\n",
            "Epoch 14/15\n",
            "1875/1875 [==============================] - 6s 3ms/step - loss: 0.2277 - accuracy: 0.9348 - val_loss: 0.4336 - val_accuracy: 0.9191\n",
            "Epoch 15/15\n",
            "1875/1875 [==============================] - 6s 3ms/step - loss: 0.2213 - accuracy: 0.9369 - val_loss: 0.4359 - val_accuracy: 0.9171\n"
          ]
        },
        {
          "output_type": "execute_result",
          "data": {
            "text/plain": [
              "<keras.src.callbacks.History at 0x7febc8fd07c0>"
            ]
          },
          "metadata": {},
          "execution_count": 12
        }
      ]
    },
    {
      "cell_type": "code",
      "source": [
        "{layer.name: layer.get_weights() for layer in model.layers}"
      ],
      "metadata": {
        "colab": {
          "base_uri": "https://localhost:8080/"
        },
        "id": "kaCUxi-0a2ED",
        "outputId": "5f1b2cef-a5e7-434c-9bb9-8b637eb3536d"
      },
      "execution_count": 13,
      "outputs": [
        {
          "output_type": "execute_result",
          "data": {
            "text/plain": [
              "{'flatten': [],\n",
              " 'dense': [array([[-0.08500569,  0.06839763,  0.04410638, ...,  0.0407128 ,\n",
              "          -0.02603207,  0.05128023],\n",
              "         [ 0.00973365, -0.02492996,  0.00537658, ...,  0.06538908,\n",
              "           0.01376461, -0.03460183],\n",
              "         [-0.05800141,  0.04131441,  0.01301252, ...,  0.05428855,\n",
              "          -0.06873675,  0.02529953],\n",
              "         ...,\n",
              "         [ 0.05117489, -0.01259872, -0.01669538, ...,  0.08248976,\n",
              "          -0.0610528 , -0.06401549],\n",
              "         [ 0.01490503, -0.05933502,  0.05988763, ...,  0.04430759,\n",
              "          -0.00140877, -0.00316086],\n",
              "         [ 0.06592253,  0.06125647,  0.03530192, ..., -0.06774679,\n",
              "          -0.05880421,  0.044098  ]], dtype=float32),\n",
              "  array([ 0.14707941,  0.09360038,  0.06033313,  0.12623364,  0.05524856,\n",
              "          0.05915298,  0.1234488 ,  0.11300767,  0.10974012,  0.15533999,\n",
              "          0.09704903, -0.036741  ,  0.00845248,  0.03669793,  0.10352688,\n",
              "          0.0762004 ], dtype=float32)],\n",
              " 'dense_1': [array([[ 0.11361146,  0.28764877, -0.787028  , -0.94908166,  0.6022021 ,\n",
              "           0.23786232,  0.9496611 ,  2.4729624 ,  0.9004255 ,  0.23317176,\n",
              "          -0.62710476, -0.08562043,  0.3574542 , -0.9491386 , -1.4553659 ,\n",
              "           0.30918717],\n",
              "         [ 0.19943562, -0.5605287 , -0.62577087, -0.9019951 ,  1.8247753 ,\n",
              "           0.34581575, -0.4284816 ,  0.9858562 , -0.56659704,  0.26846024,\n",
              "           1.0345334 ,  0.6693132 ,  1.4905816 ,  1.0521898 ,  0.7412508 ,\n",
              "          -0.30918598],\n",
              "         [-0.1281794 , -0.02074068, -0.3553629 ,  1.1804864 , -0.1783189 ,\n",
              "           0.26006046,  1.8178478 , -1.1438442 ,  1.8434502 ,  1.1255697 ,\n",
              "          -1.3545858 ,  0.73407006, -0.50848997,  0.48442677,  0.02545257,\n",
              "          -0.7439669 ],\n",
              "         [-0.3651889 ,  0.49930027, -1.1785014 , -0.24313353,  1.1355351 ,\n",
              "          -1.6023057 ,  1.1903757 ,  0.29628587,  1.315268  , -0.979114  ,\n",
              "           0.93732595,  0.80988014,  1.2741988 ,  0.3766873 , -0.18451902,\n",
              "           0.49474806],\n",
              "         [-0.04414032, -0.0906408 ,  0.54875   ,  1.2585385 , -0.40110105,\n",
              "           0.07031489,  2.2994947 , -1.0605327 ,  1.7849203 ,  0.7283919 ,\n",
              "           0.19406858,  0.5632393 ,  0.69990516, -1.2101932 ,  0.72208524,\n",
              "           0.44121638],\n",
              "         [-0.15217866,  1.4259793 , -0.8085629 ,  0.17970823, -0.98109597,\n",
              "           2.223991  , -0.53242886, -0.94371974, -0.97485363,  1.6750153 ,\n",
              "           0.3029478 ,  1.2992167 ,  0.11715963,  1.5525362 , -0.4840733 ,\n",
              "           1.4288396 ],\n",
              "         [-0.07971712, -0.7912609 ,  0.33851457,  0.49170548,  1.1609026 ,\n",
              "           0.9224768 ,  1.4052597 ,  0.9133655 ,  0.9907285 ,  1.8096485 ,\n",
              "          -1.404339  , -0.31801108, -0.72678554,  0.732908  ,  0.8587957 ,\n",
              "          -0.24150932],\n",
              "         [ 0.19122261,  0.5344621 , -0.6321671 ,  0.87052953,  0.38930982,\n",
              "           1.4859933 , -1.1587852 , -0.5470166 ,  1.2650545 , -0.53031677,\n",
              "           0.5732612 ,  1.7532691 , -1.3312383 ,  2.0326247 ,  0.14474533,\n",
              "          -1.730857  ],\n",
              "         [-0.02509144, -0.27561954,  0.8450054 ,  0.55916476, -0.8485687 ,\n",
              "           0.7106509 ,  0.92912257, -0.9533469 , -1.7805622 ,  0.84593034,\n",
              "           0.82289374,  1.3885018 ,  1.3167639 , -1.1329287 ,  1.1249195 ,\n",
              "           1.5820462 ],\n",
              "         [-0.15779382,  1.1616977 ,  2.306793  ,  1.4239587 ,  0.24882343,\n",
              "          -1.9422117 , -0.5975202 , -2.0854075 ,  1.5073633 ,  1.0540447 ,\n",
              "          -0.85253435, -2.4828782 ,  0.19028646,  1.4141514 ,  1.5310618 ,\n",
              "           0.67921335],\n",
              "         [-0.24295147,  0.46644813,  1.2887404 ,  0.46046945, -0.1712536 ,\n",
              "          -0.35902217, -0.36221457, -0.0121676 ,  1.6022042 ,  1.2666953 ,\n",
              "          -0.94758785, -1.4617887 , -0.30486578,  0.26013532,  0.06312082,\n",
              "           1.3544011 ],\n",
              "         [-0.05263347, -0.19050395,  1.5540041 ,  0.13028763,  0.18767522,\n",
              "          -2.577721  ,  0.17664854,  2.2752082 ,  1.4507561 , -1.1394179 ,\n",
              "           2.122193  , -1.293033  ,  3.2147648 ,  0.72898495,  3.583502  ,\n",
              "          -0.6051486 ],\n",
              "         [-0.39944258, -0.10108626, -1.0272188 , -0.3203354 ,  1.4163077 ,\n",
              "           1.297654  ,  1.7081964 , -1.465171  , -1.256961  ,  1.800092  ,\n",
              "           0.19780482,  1.6843482 ,  0.19668463,  0.06865723,  0.83295375,\n",
              "           0.2117071 ],\n",
              "         [-0.3633271 , -0.6751702 ,  2.0279672 ,  1.7988973 , -0.5257169 ,\n",
              "          -0.3180735 , -0.72614825,  0.9718074 ,  0.70738876, -1.3165824 ,\n",
              "           1.7966895 ,  0.6176447 ,  1.100036  ,  0.3382126 ,  2.056884  ,\n",
              "          -1.8310409 ],\n",
              "         [-0.4636484 , -1.2209097 ,  1.5311078 , -0.13212267,  0.6486051 ,\n",
              "          -0.08844723,  0.04016718,  1.7003651 , -1.8837235 ,  0.8727909 ,\n",
              "           1.0931276 , -1.0560704 ,  1.5197453 , -0.48855364,  0.87267834,\n",
              "           0.35289815],\n",
              "         [-0.34063855,  0.55591303,  0.35540873, -0.16519019, -1.5068978 ,\n",
              "           0.4821778 ,  0.88137233,  0.8112175 , -1.1701572 , -0.16998433,\n",
              "           1.157985  ,  1.2329059 ,  1.3288759 , -1.4098715 ,  0.5681198 ,\n",
              "           1.2369491 ]], dtype=float32),\n",
              "  array([-0.07112561,  0.41167086,  0.02732462,  0.24094583,  0.26477325,\n",
              "          0.05432409, -0.5530317 , -0.21376553,  0.0710219 ,  0.09738309,\n",
              "          0.3186025 ,  0.11298622,  0.0204806 ,  0.49298254, -0.17353344,\n",
              "          0.465778  ], dtype=float32)],\n",
              " 'dense_2': [array([[-2.1339671e-01,  1.2128872e-01, -1.0659580e-01,  1.6445769e-01,\n",
              "           2.0125410e-01, -3.4355703e-01, -3.5973838e-01,  4.0913001e-02,\n",
              "           1.8187881e-01, -1.4755501e-01],\n",
              "         [-1.7495847e+00,  5.0793093e-01,  4.9239996e-01,  6.2168801e-01,\n",
              "           7.7772123e-01,  5.7493114e-01, -3.5489179e-02,  5.6500757e-01,\n",
              "          -2.8810041e+00, -1.1335137e+00],\n",
              "         [ 1.7787441e+00, -1.6518503e+00,  1.3470821e+00, -3.5216588e-01,\n",
              "          -2.3180022e+00, -3.6304629e-01, -1.1879510e+00,  1.8548754e+00,\n",
              "          -1.3577224e+00, -1.9094461e+00],\n",
              "         [ 9.3995738e-01, -2.4752331e+00, -9.2547101e-01,  2.7437022e-01,\n",
              "           3.5076071e-02,  3.4086904e-01, -9.5925665e-01,  8.5369563e-01,\n",
              "          -4.0962398e-01, -1.0531723e-02],\n",
              "         [-1.7160611e+00,  1.2979997e+00, -5.6527179e-01, -1.4972236e+00,\n",
              "          -4.4219843e-01, -9.5368356e-01, -8.7210350e-03, -3.7605169e-01,\n",
              "           4.1192093e-01,  1.7215830e+00],\n",
              "         [ 4.5466840e-01, -5.5361420e-01, -1.7672820e+00, -1.3590090e+00,\n",
              "           1.3015589e+00,  2.5394952e-01,  7.0575106e-01, -4.8813295e-01,\n",
              "           1.3661357e+00, -1.2940019e+00],\n",
              "         [ 4.8115498e-01, -2.7672250e+00,  5.3910571e-01,  1.2875701e-01,\n",
              "           2.1938440e-01, -9.5744962e-01,  9.9415404e-01, -1.1055285e+00,\n",
              "           2.7593586e-01,  7.1795106e-01],\n",
              "         [-1.5135322e+00,  1.3536662e+00,  9.0427411e-01, -1.9597669e-01,\n",
              "          -1.5924737e+00, -1.3857602e+00, -1.0160284e-01,  1.5152225e+00,\n",
              "           6.1160254e-01, -3.1376169e+00],\n",
              "         [-7.7849239e-01, -1.4781886e+00,  2.9632619e-02,  6.7293692e-01,\n",
              "           6.2509906e-01, -2.0860188e+00, -2.5556364e+00,  8.3292794e-01,\n",
              "          -9.3143404e-01,  7.2871894e-01],\n",
              "         [ 6.3463145e-01, -1.3176678e+00,  2.0332433e-01, -2.6812239e+00,\n",
              "           5.9918839e-01, -1.6235906e-01,  1.1169456e+00,  4.6053350e-01,\n",
              "           1.7393112e-01,  2.5013158e-01],\n",
              "         [-6.3904345e-01,  1.0731018e+00, -1.9492957e-01,  7.5533229e-01,\n",
              "          -1.5794582e+00,  7.7156699e-01, -5.5123454e-01, -1.8356376e+00,\n",
              "          -7.0377946e-02, -6.1517447e-01],\n",
              "         [-1.7697199e-01, -5.0257653e-01, -1.7335321e+00,  8.3252180e-01,\n",
              "           9.7698611e-01,  6.1982340e-01,  4.2602578e-01, -2.5765619e+00,\n",
              "           8.9143455e-01, -2.3835200e-01],\n",
              "         [-5.1180959e-01,  7.6340371e-01,  1.1403904e+00,  8.4063649e-01,\n",
              "          -2.0644977e+00,  3.8165656e-01, -2.0274901e-01, -1.3504949e+00,\n",
              "          -1.1273360e-01, -5.8680958e-01],\n",
              "         [-3.0708685e+00,  9.3147469e-01, -5.2691156e-01, -5.5277371e-01,\n",
              "           3.0364785e-01,  6.3976753e-01, -2.4745369e+00,  8.6619848e-01,\n",
              "           1.9185896e-01,  6.9443727e-01],\n",
              "         [ 1.2448566e+00, -1.5945071e+00, -1.0586160e-01, -2.4635484e-03,\n",
              "          -3.8409967e+00,  1.1749742e+00, -2.6530840e+00,  1.5862505e-01,\n",
              "           3.3444598e-01, -5.9096463e-02],\n",
              "         [ 9.1082191e-01, -1.2137967e+00,  1.1159310e+00, -9.2286777e-01,\n",
              "           5.5080789e-01, -7.3515646e-02,  1.1695185e+00, -2.0151696e+00,\n",
              "          -2.0267079e+00, -1.8491205e+00]], dtype=float32),\n",
              "  array([-0.5384454 ,  1.3791596 , -0.9699734 ,  0.38572562,  0.63001734,\n",
              "          0.30521646,  0.42737797,  0.07940598, -0.9945694 , -0.21373376],\n",
              "        dtype=float32)]}"
            ]
          },
          "metadata": {},
          "execution_count": 13
        }
      ]
    },
    {
      "cell_type": "code",
      "source": [
        "weights1, biases1 = model.layers[1].get_weights()\n",
        "print(weights1)"
      ],
      "metadata": {
        "colab": {
          "base_uri": "https://localhost:8080/"
        },
        "id": "p67v8xTZkXtA",
        "outputId": "d7b650b8-3439-4761-c508-e5fa5e99304f"
      },
      "execution_count": 14,
      "outputs": [
        {
          "output_type": "stream",
          "name": "stdout",
          "text": [
            "[[-0.08500569  0.06839763  0.04410638 ...  0.0407128  -0.02603207\n",
            "   0.05128023]\n",
            " [ 0.00973365 -0.02492996  0.00537658 ...  0.06538908  0.01376461\n",
            "  -0.03460183]\n",
            " [-0.05800141  0.04131441  0.01301252 ...  0.05428855 -0.06873675\n",
            "   0.02529953]\n",
            " ...\n",
            " [ 0.05117489 -0.01259872 -0.01669538 ...  0.08248976 -0.0610528\n",
            "  -0.06401549]\n",
            " [ 0.01490503 -0.05933502  0.05988763 ...  0.04430759 -0.00140877\n",
            "  -0.00316086]\n",
            " [ 0.06592253  0.06125647  0.03530192 ... -0.06774679 -0.05880421\n",
            "   0.044098  ]]\n"
          ]
        }
      ]
    },
    {
      "cell_type": "code",
      "source": [
        "# cannot easily visualize filters lower down\n",
        "from matplotlib import pyplot\n",
        "# normalize weights values to 0-1 so we can visualize them\n",
        "f_min, f_max = weights1.min(), weights1.max()\n",
        "weights1 = (weights1 - f_min) / (f_max - f_min)\n",
        "print(weights1)"
      ],
      "metadata": {
        "colab": {
          "base_uri": "https://localhost:8080/"
        },
        "id": "tQC7P7JpDtw6",
        "outputId": "41b8ddea-cf90-48db-e4b2-e06a687390b0"
      },
      "execution_count": 15,
      "outputs": [
        {
          "output_type": "stream",
          "name": "stdout",
          "text": [
            "[[0.4731583  0.49394906 0.49065688 ... 0.49019694 0.48115104 0.49162915]\n",
            " [0.48599836 0.48130038 0.48540783 ... 0.49354133 0.48654467 0.47998953]\n",
            " [0.4768182  0.49027848 0.48644271 ... 0.49203688 0.47536325 0.48810798]\n",
            " ...\n",
            " [0.49161488 0.48297164 0.48241642 ... 0.49585897 0.47640467 0.47600314]\n",
            " [0.48669922 0.47663748 0.4927957  ... 0.49068412 0.48448822 0.48425072]\n",
            " [0.49361363 0.49298123 0.48946363 ... 0.4754974  0.4767094  0.49065572]]\n"
          ]
        }
      ]
    },
    {
      "cell_type": "code",
      "source": [
        "# Get the weights from the first Hidden layer\n",
        "print(weights1.shape)\n",
        "\n",
        "# Check if the shape is compatible for reshaping\n",
        "if weights1.shape != (28 * 28, 16):\n",
        "    print(\"The shape of the weights array is not compatible for reshaping.\")\n",
        "\n",
        "# Reshape weights into 16 images of 28 by 28\n",
        "weights1_images = weights1.reshape(-1, 28, 28)\n",
        "\n",
        "# Plot the weights\n",
        "fig, axes = plt.subplots(4, 4)\n",
        "for i, ax in enumerate(axes.flat):\n",
        "#    ax.matshow(weights1_images[i], cmap='viridis')\n",
        "    ax.matshow(weights1_images[i], cmap=plt.cm.gray, vmin=f_min, vmax=f_max)\n",
        "    ax.axis('off')\n",
        "\n",
        "plt.show()"
      ],
      "metadata": {
        "colab": {
          "base_uri": "https://localhost:8080/",
          "height": 424
        },
        "id": "ReVfIObmNkPH",
        "outputId": "f0806aa9-fcfe-4bc1-9281-76e9ac15a7fe"
      },
      "execution_count": 46,
      "outputs": [
        {
          "output_type": "stream",
          "name": "stdout",
          "text": [
            "(784, 16)\n"
          ]
        },
        {
          "output_type": "display_data",
          "data": {
            "text/plain": [
              "<Figure size 640x480 with 16 Axes>"
            ],
            "image/png": "[encoded data removed]"
          },
          "metadata": {}
        }
      ]
    },
    {
      "cell_type": "code",
      "source": [
        "# Get the weights from the first Hidden layer\n",
        "weights2, biases2 = model.layers[2].get_weights()\n",
        "print(weights2.shape)\n",
        "\n",
        "# normalize weights values to 0-1 so we can visualize them\n",
        "f_min, f_max = weights2.min(), weights2.max()\n",
        "weights2 = (weights2 - f_min) / (f_max - f_min)\n",
        "\n",
        "# Check if the shape is compatible for reshaping\n",
        "if weights2.shape != (4 * 4, 16):\n",
        "    print(\"The shape of the weights array is not compatible for reshaping.\")\n",
        "\n",
        "# Reshape weights into 16 images of 28 by 28\n",
        "weights2_images = weights2.reshape(-1, 4, 4)\n",
        "\n",
        "# Plot the weights\n",
        "fig, axes = plt.subplots(4, 4)\n",
        "for i, ax in enumerate(axes.flat):\n",
        "#    ax.matshow(weights2_images[i], cmap='viridis')\n",
        "    ax.matshow(weights2_images[i], cmap=plt.cm.gray, vmin=f_min, vmax=f_max)\n",
        "    ax.axis('off')\n",
        "\n",
        "plt.show()"
      ],
      "metadata": {
        "colab": {
          "base_uri": "https://localhost:8080/",
          "height": 424
        },
        "id": "k_DVuVUK0ubJ",
        "outputId": "26b7baa7-218f-44cf-e2e0-4f4e53c9222a"
      },
      "execution_count": 48,
      "outputs": [
        {
          "output_type": "stream",
          "name": "stdout",
          "text": [
            "(16, 16)\n"
          ]
        },
        {
          "output_type": "display_data",
          "data": {
            "text/plain": [
              "<Figure size 640x480 with 16 Axes>"
            ],
            "image/png": "[encoded data removed]"
          },
          "metadata": {}
        }
      ]
    },
    {
      "cell_type": "markdown",
      "source": [
        "***... now you have to put your 10 digit images in content folder...***\n",
        "these images have to be labelled digit_x.png, in an 28x28 resolution"
      ],
      "metadata": {
        "id": "_s5Er1KcnBh0"
      }
    },
    {
      "cell_type": "code",
      "source": [
        "import cv2"
      ],
      "metadata": {
        "id": "mY8gVkDbWt9x"
      },
      "execution_count": 36,
      "outputs": []
    },
    {
      "cell_type": "code",
      "source": [
        "image = cv2.imread('digit_3.png')[:,:,0]\n",
        "image = np.invert(np.array([image]))"
      ],
      "metadata": {
        "id": "NIQqjpsTX79E"
      },
      "execution_count": 37,
      "outputs": []
    },
    {
      "cell_type": "code",
      "source": [
        "output = model.predict(image)\n",
        "plt.imshow(image[0])\n",
        "print(np.argmax(output))"
      ],
      "metadata": {
        "colab": {
          "base_uri": "https://localhost:8080/",
          "height": 466
        },
        "id": "vQqIwlTaZSny",
        "outputId": "68a177d9-c253-4ffa-8003-18e0b38eda23"
      },
      "execution_count": 38,
      "outputs": [
        {
          "output_type": "stream",
          "name": "stdout",
          "text": [
            "1/1 [==============================] - 0s 92ms/step\n",
            "3\n"
          ]
        },
        {
          "output_type": "display_data",
          "data": {
            "text/plain": [
              "<Figure size 640x480 with 1 Axes>"
            ],
            "image/png": "[encoded data removed]"
          },
          "metadata": {}
        }
      ]
    },
    {
      "cell_type": "code",
      "source": [
        "model.save('/content/hand_written_Digit_recog_model.keras')"
      ],
      "metadata": {
        "id": "1wzUfiKhZ2gO"
      },
      "execution_count": 39,
      "outputs": []
    },
    {
      "cell_type": "code",
      "source": [
        "!pip install streamlit"
      ],
      "metadata": {
        "colab": {
          "base_uri": "https://localhost:8080/"
        },
        "id": "ZizRHYiCbXgP",
        "outputId": "736cc361-4a3c-44b5-81f4-7cbca609a371"
      },
      "execution_count": null,
      "outputs": [
        {
          "output_type": "stream",
          "name": "stdout",
          "text": [
            "Requirement already satisfied: streamlit in /usr/local/lib/python3.10/dist-packages (1.31.1)\n",
            "Requirement already satisfied: altair<6,>=4.0 in /usr/local/lib/python3.10/dist-packages (from streamlit) (4.2.2)\n",
            "Requirement already satisfied: blinker<2,>=1.0.0 in /usr/lib/python3/dist-packages (from streamlit) (1.4)\n",
            "Requirement already satisfied: cachetools<6,>=4.0 in /usr/local/lib/python3.10/dist-packages (from streamlit) (5.3.2)\n",
            "Requirement already satisfied: click<9,>=7.0 in /usr/local/lib/python3.10/dist-packages (from streamlit) (8.1.7)\n",
            "Requirement already satisfied: importlib-metadata<8,>=1.4 in /usr/local/lib/python3.10/dist-packages (from streamlit) (7.0.1)\n",
            "Requirement already satisfied: numpy<2,>=1.19.3 in /usr/local/lib/python3.10/dist-packages (from streamlit) (1.25.2)\n",
            "Requirement already satisfied: packaging<24,>=16.8 in /usr/local/lib/python3.10/dist-packages (from streamlit) (23.2)\n",
            "Requirement already satisfied: pandas<3,>=1.3.0 in /usr/local/lib/python3.10/dist-packages (from streamlit) (1.5.3)\n",
            "Requirement already satisfied: pillow<11,>=7.1.0 in /usr/local/lib/python3.10/dist-packages (from streamlit) (9.4.0)\n",
            "Requirement already satisfied: protobuf<5,>=3.20 in /usr/local/lib/python3.10/dist-packages (from streamlit) (3.20.3)\n",
            "Requirement already satisfied: pyarrow>=7.0 in /usr/local/lib/python3.10/dist-packages (from streamlit) (14.0.2)\n",
            "Requirement already satisfied: python-dateutil<3,>=2.7.3 in /usr/local/lib/python3.10/dist-packages (from streamlit) (2.8.2)\n",
            "Requirement already satisfied: requests<3,>=2.27 in /usr/local/lib/python3.10/dist-packages (from streamlit) (2.31.0)\n",
            "Requirement already satisfied: rich<14,>=10.14.0 in /usr/local/lib/python3.10/dist-packages (from streamlit) (13.7.0)\n",
            "Requirement already satisfied: tenacity<9,>=8.1.0 in /usr/local/lib/python3.10/dist-packages (from streamlit) (8.2.3)\n",
            "Requirement already satisfied: toml<2,>=0.10.1 in /usr/local/lib/python3.10/dist-packages (from streamlit) (0.10.2)\n",
            "Requirement already satisfied: typing-extensions<5,>=4.3.0 in /usr/local/lib/python3.10/dist-packages (from streamlit) (4.9.0)\n",
            "Requirement already satisfied: tzlocal<6,>=1.1 in /usr/local/lib/python3.10/dist-packages (from streamlit) (5.2)\n",
            "Requirement already satisfied: validators<1,>=0.2 in /usr/local/lib/python3.10/dist-packages (from streamlit) (0.22.0)\n",
            "Requirement already satisfied: gitpython!=3.1.19,<4,>=3.0.7 in /usr/local/lib/python3.10/dist-packages (from streamlit) (3.1.42)\n",
            "Requirement already satisfied: pydeck<1,>=0.8.0b4 in /usr/local/lib/python3.10/dist-packages (from streamlit) (0.8.1b0)\n",
            "Requirement already satisfied: tornado<7,>=6.0.3 in /usr/local/lib/python3.10/dist-packages (from streamlit) (6.3.2)\n",
            "Requirement already satisfied: watchdog>=2.1.5 in /usr/local/lib/python3.10/dist-packages (from streamlit) (4.0.0)\n",
            "Requirement already satisfied: entrypoints in /usr/local/lib/python3.10/dist-packages (from altair<6,>=4.0->streamlit) (0.4)\n",
            "Requirement already satisfied: jinja2 in /usr/local/lib/python3.10/dist-packages (from altair<6,>=4.0->streamlit) (3.1.3)\n",
            "Requirement already satisfied: jsonschema>=3.0 in /usr/local/lib/python3.10/dist-packages (from altair<6,>=4.0->streamlit) (4.19.2)\n",
            "Requirement already satisfied: toolz in /usr/local/lib/python3.10/dist-packages (from altair<6,>=4.0->streamlit) (0.12.1)\n",
            "Requirement already satisfied: gitdb<5,>=4.0.1 in /usr/local/lib/python3.10/dist-packages (from gitpython!=3.1.19,<4,>=3.0.7->streamlit) (4.0.11)\n",
            "Requirement already satisfied: zipp>=0.5 in /usr/local/lib/python3.10/dist-packages (from importlib-metadata<8,>=1.4->streamlit) (3.17.0)\n",
            "Requirement already satisfied: pytz>=2020.1 in /usr/local/lib/python3.10/dist-packages (from pandas<3,>=1.3.0->streamlit) (2023.4)\n",
            "Requirement already satisfied: six>=1.5 in /usr/local/lib/python3.10/dist-packages (from python-dateutil<3,>=2.7.3->streamlit) (1.16.0)\n",
            "Requirement already satisfied: charset-normalizer<4,>=2 in /usr/local/lib/python3.10/dist-packages (from requests<3,>=2.27->streamlit) (3.3.2)\n",
            "Requirement already satisfied: idna<4,>=2.5 in /usr/local/lib/python3.10/dist-packages (from requests<3,>=2.27->streamlit) (3.6)\n",
            "Requirement already satisfied: urllib3<3,>=1.21.1 in /usr/local/lib/python3.10/dist-packages (from requests<3,>=2.27->streamlit) (2.0.7)\n",
            "Requirement already satisfied: certifi>=2017.4.17 in /usr/local/lib/python3.10/dist-packages (from requests<3,>=2.27->streamlit) (2024.2.2)\n",
            "Requirement already satisfied: markdown-it-py>=2.2.0 in /usr/local/lib/python3.10/dist-packages (from rich<14,>=10.14.0->streamlit) (3.0.0)\n",
            "Requirement already satisfied: pygments<3.0.0,>=2.13.0 in /usr/local/lib/python3.10/dist-packages (from rich<14,>=10.14.0->streamlit) (2.16.1)\n",
            "Requirement already satisfied: smmap<6,>=3.0.1 in /usr/local/lib/python3.10/dist-packages (from gitdb<5,>=4.0.1->gitpython!=3.1.19,<4,>=3.0.7->streamlit) (5.0.1)\n",
            "Requirement already satisfied: MarkupSafe>=2.0 in /usr/local/lib/python3.10/dist-packages (from jinja2->altair<6,>=4.0->streamlit) (2.1.5)\n",
            "Requirement already satisfied: attrs>=22.2.0 in /usr/local/lib/python3.10/dist-packages (from jsonschema>=3.0->altair<6,>=4.0->streamlit) (23.2.0)\n",
            "Requirement already satisfied: jsonschema-specifications>=2023.03.6 in /usr/local/lib/python3.10/dist-packages (from jsonschema>=3.0->altair<6,>=4.0->streamlit) (2023.12.1)\n",
            "Requirement already satisfied: referencing>=0.28.4 in /usr/local/lib/python3.10/dist-packages (from jsonschema>=3.0->altair<6,>=4.0->streamlit) (0.33.0)\n",
            "Requirement already satisfied: rpds-py>=0.7.1 in /usr/local/lib/python3.10/dist-packages (from jsonschema>=3.0->altair<6,>=4.0->streamlit) (0.18.0)\n",
            "Requirement already satisfied: mdurl~=0.1 in /usr/local/lib/python3.10/dist-packages (from markdown-it-py>=2.2.0->rich<14,>=10.14.0->streamlit) (0.1.2)\n"
          ]
        }
      ]
    },
    {
      "cell_type": "code",
      "source": [
        "!npm install localtunnel"
      ],
      "metadata": {
        "colab": {
          "base_uri": "https://localhost:8080/"
        },
        "id": "zsLuDRWxZ6Km",
        "outputId": "d73b1f2b-5247-4013-f568-66779278f20f"
      },
      "execution_count": null,
      "outputs": [
        {
          "output_type": "stream",
          "name": "stdout",
          "text": [
            "\u001b[K\u001b[?25h\u001b[37;40mnpm\u001b[0m \u001b[0m\u001b[30;43mWARN\u001b[0m \u001b[0m\u001b[35msaveError\u001b[0m ENOENT: no such file or directory, open '/content/package.json'\n",
            "\u001b[0m\u001b[37;40mnpm\u001b[0m \u001b[0m\u001b[30;43mWARN\u001b[0m \u001b[0m\u001b[35menoent\u001b[0m ENOENT: no such file or directory, open '/content/package.json'\n",
            "\u001b[0m\u001b[37;40mnpm\u001b[0m \u001b[0m\u001b[30;43mWARN\u001b[0m\u001b[35m\u001b[0m content No description\n",
            "\u001b[0m\u001b[37;40mnpm\u001b[0m \u001b[0m\u001b[30;43mWARN\u001b[0m\u001b[35m\u001b[0m content No repository field.\n",
            "\u001b[0m\u001b[37;40mnpm\u001b[0m \u001b[0m\u001b[30;43mWARN\u001b[0m\u001b[35m\u001b[0m content No README data\n",
            "\u001b[0m\u001b[37;40mnpm\u001b[0m \u001b[0m\u001b[30;43mWARN\u001b[0m\u001b[35m\u001b[0m content No license field.\n",
            "\u001b[0m\n",
            "\u001b[K\u001b[?25h+ localtunnel@2.0.2\n",
            "updated 1 package and audited 36 packages in 0.447s\n",
            "\n",
            "3 packages are looking for funding\n",
            "  run `npm fund` for details\n",
            "\n",
            "found 2 \u001b[93mmoderate\u001b[0m severity vulnerabilities\n",
            "  run `npm audit fix` to fix them, or `npm audit` for details\n"
          ]
        }
      ]
    },
    {
      "cell_type": "code",
      "source": [
        "!streamlit run /content/julien_web_app.py &> /content/logs.txt &"
      ],
      "metadata": {
        "id": "8DZcJzv0aJhX"
      },
      "execution_count": null,
      "outputs": []
    },
    {
      "cell_type": "code",
      "source": [
        "!npx localtunnel --port 8501"
      ],
      "metadata": {
        "colab": {
          "base_uri": "https://localhost:8080/"
        },
        "id": "ZtuiqVfvaMZt",
        "outputId": "9e68f351-c0f0-4342-8a81-a788c2f4a36f"
      },
      "execution_count": null,
      "outputs": [
        {
          "output_type": "stream",
          "name": "stdout",
          "text": [
            "\u001b[K\u001b[?25hnpx: installed 22 in 2.387s\n",
            "your url is: https://four-paws-tell.loca.lt\n",
            "^C\n"
          ]
        }
      ]
    }
  ]
}