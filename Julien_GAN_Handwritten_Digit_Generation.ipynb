{
  "nbformat": 4,
  "nbformat_minor": 0,
  "metadata": {
    "colab": {
      "provenance": [],
      "authorship_tag": "ABX9TyMCg2YJxCquJMmqvmTwWGV+",
      "include_colab_link": true
    },
    "kernelspec": {
      "name": "python3",
      "display_name": "Python 3"
    },
    "language_info": {
      "name": "python"
    }
  },
  "cells": [
    {
      "cell_type": "markdown",
      "metadata": {
        "id": "view-in-github",
        "colab_type": "text"
      },
      "source": [
        "<a href=\"https://colab.research.google.com/github/jmerceron/AI-Activity/blob/main/Julien_GAN_Handwritten_Digit_Generation.ipynb\" target=\"_parent\"><img src=\"https://colab.research.google.com/assets/colab-badge.svg\" alt=\"Open In Colab\"/></a>"
      ]
    },
    {
      "cell_type": "markdown",
      "source": [
        "INITIALIZATION"
      ],
      "metadata": {
        "id": "nAiX8NJPI7NL"
      }
    },
    {
      "cell_type": "code",
      "execution_count": null,
      "metadata": {
        "id": "gTCOWr-mIj__"
      },
      "outputs": [],
      "source": [
        "import os\n",
        "import numpy as np\n",
        "import matplotlib.pyplot as plt\n",
        "%matplotlib inline\n",
        "\n",
        "import keras\n",
        "from keras.models import Model, Sequential\n",
        "from keras.layers import Dense, BatchNormalization, Reshape, Dropout, LeakyReLU, Input, Flatten\n",
        "from keras.optimizers import Adam\n",
        "from keras.datasets import mnist\n",
        "from keras.utils import plot_model"
      ]
    },
    {
      "cell_type": "code",
      "source": [
        "# Parameters\n",
        "epochs = 20000\n",
        "mnist_shape = (28,28,1)\n",
        "batch_size = 128\n",
        "noise_shape = (100,)\n",
        "save_every = 1000"
      ],
      "metadata": {
        "id": "aTa-uPTPI0vP"
      },
      "execution_count": null,
      "outputs": []
    },
    {
      "cell_type": "markdown",
      "source": [
        "GENERATOR"
      ],
      "metadata": {
        "id": "QcRFqwjPJAgJ"
      }
    },
    {
      "cell_type": "code",
      "source": [
        "def build_generator(noise_shape, mnist_shape):\n",
        "    noise = Input(shape=noise_shape)\n",
        "\n",
        "    x = Dense(256, input_shape=(noise_shape))(noise)\n",
        "    x = LeakyReLU(alpha=0.2)(x)\n",
        "    x = BatchNormalization(momentum=0.8)(x)\n",
        "    x = Dense(512)(x)\n",
        "    x = LeakyReLU(alpha=0.2)(x)\n",
        "    x = BatchNormalization(momentum=0.8)(x)\n",
        "    x = Dense(1024)(x)\n",
        "    x = LeakyReLU(alpha=0.2)(x)\n",
        "    x = BatchNormalization(momentum=0.8)(x)\n",
        "    x = Dense(np.prod(mnist_shape), activation='tanh')(x)\n",
        "    x = Reshape(mnist_shape)(x)\n",
        "\n",
        "    model = Model(noise, x)\n",
        "\n",
        "    # print model summary\n",
        "    model.summary()\n",
        "\n",
        "    img = model(noise)\n",
        "    return Model(noise, img)"
      ],
      "metadata": {
        "id": "UBZXJD7bI0n5"
      },
      "execution_count": null,
      "outputs": []
    },
    {
      "cell_type": "code",
      "source": [
        "G = build_generator(noise_shape, mnist_shape)"
      ],
      "metadata": {
        "id": "jGZlPB2mI0lM"
      },
      "execution_count": null,
      "outputs": []
    },
    {
      "cell_type": "markdown",
      "source": [
        "DISCRIMINATOR"
      ],
      "metadata": {
        "id": "wJFfvcO3JKOA"
      }
    },
    {
      "cell_type": "code",
      "source": [
        "def build_discriminator(mnist_shape):\n",
        "    input = Input(shape=mnist_shape)\n",
        "\n",
        "    x = Flatten()(input)\n",
        "    x = Dense(512)(x)\n",
        "    x = LeakyReLU(alpha=0.2)(x)\n",
        "    x = Dense(256)(x)\n",
        "    x = LeakyReLU(alpha=0.2)(x)\n",
        "    x = Dense(1, activation='sigmoid')(x)\n",
        "\n",
        "    model = Model(input, x)\n",
        "    model.summary()\n",
        "    img = model(input)\n",
        "    return Model(input, img)"
      ],
      "metadata": {
        "id": "LLVTFhHWI0i2"
      },
      "execution_count": null,
      "outputs": []
    },
    {
      "cell_type": "code",
      "source": [
        "D = build_discriminator(mnist_shape)"
      ],
      "metadata": {
        "id": "Kw__GRXMI0gj"
      },
      "execution_count": null,
      "outputs": []
    },
    {
      "cell_type": "markdown",
      "source": [
        "COMPILE"
      ],
      "metadata": {
        "id": "YdrZxMuaJSnp"
      }
    },
    {
      "cell_type": "code",
      "source": [
        "G.compile(optimizer=Adam(0.0002, 0.5), loss='binary_crossentropy')\n",
        "D.compile(optimizer=Adam(0.0002, 0.5), loss='binary_crossentropy', metrics=['accuracy'])"
      ],
      "metadata": {
        "id": "aPzjR8NrIz3x"
      },
      "execution_count": null,
      "outputs": []
    },
    {
      "cell_type": "markdown",
      "source": [
        "BUILD G,A.N"
      ],
      "metadata": {
        "id": "iEDNk6W5JYwt"
      }
    },
    {
      "cell_type": "code",
      "source": [
        "input = Input(shape=noise_shape)\n",
        "image = G(input)\n",
        "D.trainable = False\n",
        "image = D(image)\n",
        "# noise -> G -> D\n",
        "D_G_model = Model(input, image)\n",
        "D_G_model.compile(optimizer=Adam(0.0002, 0.5), loss='binary_crossentropy')\n",
        "\n",
        "D_G_model.summary()"
      ],
      "metadata": {
        "id": "CmyltC0bJVyR"
      },
      "execution_count": null,
      "outputs": []
    },
    {
      "cell_type": "code",
      "source": [
        "def save_image(epoch):\n",
        "    # we plot 5 x 5 grid of images and save it to disk along with epoch number\n",
        "    rows = 10\n",
        "    cols = 10\n",
        "\n",
        "    noise = np.random.uniform(0, 1, (rows*cols, noise_shape[0]))\n",
        "    images = G.predict(noise)\n",
        "\n",
        "    # rescale\n",
        "    images = 0.5 * images + 0.5\n",
        "\n",
        "    fig, ax = plt.subplots(rows, cols)\n",
        "    ctr = 0\n",
        "    for i in range(rows):\n",
        "        for j in range(cols):\n",
        "            ax[i,j].imshow(images[ctr, :,:, 0], cmap='gray')\n",
        "            ax[i,j].axis('off')\n",
        "            ctr += 1\n",
        "    if not os.path.exists('images'):\n",
        "      os.makedirs('images')\n",
        "\n",
        "    fname = 'images/mnist_{}.png'.format(int(epoch/save_every))\n",
        "    fig.savefig(fname)\n",
        "    print('saved: {}'.format(fname))\n",
        "    plt.close()"
      ],
      "metadata": {
        "id": "z5XUA_3yJVvh"
      },
      "execution_count": null,
      "outputs": []
    },
    {
      "cell_type": "markdown",
      "source": [
        "TRAIN"
      ],
      "metadata": {
        "id": "d5wEwuzuJfq2"
      }
    },
    {
      "cell_type": "code",
      "source": [
        "# Load dataset\n",
        "(X_train, _), (_,_) = mnist.load_data()\n",
        "X_train.shape\n",
        "\n",
        "# center data\n",
        "X_train = (X_train.astype('float32') - 127.5)/127.5\n",
        "\n",
        "X_train = np.expand_dims(X_train, axis=3)\n",
        "X_train.shape\n",
        "\n",
        "print(np.mean(X_train), np.std(X_train))\n",
        "\n",
        "# Train\n",
        "\n",
        "# we want to train discriminator by passing half batch of real and half batch of fake images\n",
        "half_batch = int(batch_size/2)\n",
        "print('half batch size : {}'.format(half_batch))\n",
        "for epoch in range(epochs):\n",
        "    # train discriminator\n",
        "\n",
        "    # real\n",
        "    indices = np.random.randint(0, X_train.shape[0], half_batch)\n",
        "    images = X_train[indices]\n",
        "    d_real_loss = D.train_on_batch(images, np.ones((half_batch, 1)))\n",
        "\n",
        "    # fake\n",
        "    noise = np.random.uniform(0, 1, (half_batch, noise_shape[0]))\n",
        "    noise_images = G.predict(noise)\n",
        "    d_fake_loss = D.train_on_batch(noise_images, np.zeros((half_batch, 1)))\n",
        "\n",
        "    d_loss = np.add(d_real_loss, d_fake_loss) / 2\n",
        "\n",
        "    # train generator\n",
        "    noise = np.random.uniform(0, 1, (batch_size, noise_shape[0]))\n",
        "    g_loss = D_G_model.train_on_batch(noise, np.ones((batch_size, 1)))\n",
        "\n",
        "    if epoch % save_every == 0:\n",
        "        save_image(epoch)\n",
        "        print('Epoch: {}, D_Loss:{}, D_Acc:{}, G_Loss:{}'.format(epoch, d_loss[0], d_loss[1], g_loss))"
      ],
      "metadata": {
        "id": "a7W3QRS9JVss"
      },
      "execution_count": null,
      "outputs": []
    },
    {
      "cell_type": "markdown",
      "source": [
        "TEST #1"
      ],
      "metadata": {
        "id": "1r4g3s_LJoCZ"
      }
    },
    {
      "cell_type": "code",
      "source": [
        "noise = np.random.uniform(0, 1, (1, noise_shape[0]))\n",
        "image = G.predict(noise)\n",
        "\n",
        "# Visualise\n",
        "plt.imshow(image[0,:,:, 0], cmap='gray')"
      ],
      "metadata": {
        "id": "QrlwLO9KJVqP"
      },
      "execution_count": null,
      "outputs": []
    },
    {
      "cell_type": "markdown",
      "source": [
        "TEST #2"
      ],
      "metadata": {
        "id": "bpUB3hoFJp9S"
      }
    },
    {
      "cell_type": "code",
      "source": [
        "noise = np.random.uniform(0, 1, (1, noise_shape[0]))\n",
        "image = G.predict(noise)\n",
        "\n",
        "# Visualise\n",
        "plt.imshow(image[0,:,:, 0], cmap='gray')"
      ],
      "metadata": {
        "id": "wnVJpkFvJVoq"
      },
      "execution_count": null,
      "outputs": []
    },
    {
      "cell_type": "markdown",
      "source": [
        "TEST #3"
      ],
      "metadata": {
        "id": "feVYnNJ0JyzG"
      }
    },
    {
      "cell_type": "code",
      "source": [
        "noise = np.random.uniform(0, 1, (1, noise_shape[0]))\n",
        "image = G.predict(noise)\n",
        "\n",
        "# Visualise\n",
        "plt.imshow(image[0,:,:, 0], cmap='gray')"
      ],
      "metadata": {
        "id": "ZCuTo6MYJVmF"
      },
      "execution_count": null,
      "outputs": []
    }
  ]
}